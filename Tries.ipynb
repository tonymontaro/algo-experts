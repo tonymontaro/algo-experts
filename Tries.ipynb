{
 "cells": [
  {
   "cell_type": "code",
   "execution_count": 36,
   "metadata": {
    "ExecuteTime": {
     "end_time": "2019-08-01T10:51:21.114574Z",
     "start_time": "2019-08-01T10:51:21.097545Z"
    }
   },
   "outputs": [
    {
     "data": {
      "text/plain": [
       "{'t': {'*': True, 'e': {'s': {'t': {'*': True}}}},\n",
       " 's': {'t': {'*': True}},\n",
       " 'e': {'s': {'t': {'*': True}}}}"
      ]
     },
     "execution_count": 36,
     "metadata": {},
     "output_type": "execute_result"
    }
   ],
   "source": [
    "class SuffixTrie:\n",
    "    def __init__(self, string):\n",
    "        self.root = {}\n",
    "        self.endSymbol = \"*\"\n",
    "        self.populateSuffixTrieFrom(string)\n",
    "\n",
    "    # O(n**2) time and space\n",
    "    def populateSuffixTrieFrom(self, string):\n",
    "        for i in range(len(string)):\n",
    "            node = self.root\n",
    "            for j in range(i, len(string)):\n",
    "                char = string[j]\n",
    "                if char not in node:\n",
    "                    node[char] = {}\n",
    "                node = node[char]\n",
    "            node['*'] = True\n",
    "\n",
    "    # O(n) time | O(1) space\n",
    "    def contains(self, string):\n",
    "        node = self.root\n",
    "        for char in string:\n",
    "            if char not in node:\n",
    "                return False\n",
    "            node = node[char]\n",
    "        return '*' in node\n",
    "\n",
    "word1 = \"test\"\n",
    "test1 = SuffixTrie(word1)\n",
    "trie1 = {\n",
    "    \"t\": {\n",
    "        \"*\": True,\n",
    "        \"e\": {\"s\": {\"t\": {\"*\": True}}},\n",
    "    },\n",
    "    \"s\": {\"t\": {\"*\": True}},\n",
    "    \"e\": {\"s\": {\"t\": {\"*\": True}}},\n",
    "}\n",
    "trie1"
   ]
  },
  {
   "cell_type": "code",
   "execution_count": 37,
   "metadata": {
    "ExecuteTime": {
     "end_time": "2019-08-01T10:51:23.355361Z",
     "start_time": "2019-08-01T10:51:23.348539Z"
    }
   },
   "outputs": [
    {
     "data": {
      "text/plain": [
       "False"
      ]
     },
     "execution_count": 37,
     "metadata": {},
     "output_type": "execute_result"
    }
   ],
   "source": [
    "test1.contains('tes')"
   ]
  },
  {
   "cell_type": "code",
   "execution_count": 21,
   "metadata": {
    "ExecuteTime": {
     "end_time": "2019-08-01T10:43:25.581214Z",
     "start_time": "2019-08-01T10:43:25.570109Z"
    }
   },
   "outputs": [],
   "source": [
    "word2 = \"invisible\"\n",
    "test2 = SuffixTrie(word2)\n",
    "trie2 = {\n",
    "    \"e\": {\"*\": True},\n",
    "    \"l\": {\"e\": {\"*\": True}},\n",
    "    \"b\": {\"l\": {\"e\": {\"*\": True}}},\n",
    "    \"i\": {\n",
    "        \"b\": {\"l\": {\"e\": {\"*\": True}}},\n",
    "        \"s\": {\"i\": {\"b\": {\"l\": {\"e\": {\"*\": True}}}}},\n",
    "        \"n\": {\"v\": {\"i\": {\"s\": {\"i\": {\"b\": {\"l\": {\"e\": {\"*\": True}}}}}}}},\n",
    "    },\n",
    "    \"s\": {\"i\": {\"b\": {\"l\": {\"e\": {\"*\": True}}}}},\n",
    "    \"v\": {\"i\": {\"s\": {\"i\": {\"b\": {\"l\": {\"e\": {\"*\": True}}}}}}},\n",
    "    \"n\": {\"v\": {\"i\": {\"s\": {\"i\": {\"b\": {\"l\": {\"e\": {\"*\": True}}}}}}}},\n",
    "}"
   ]
  },
  {
   "cell_type": "code",
   "execution_count": 26,
   "metadata": {
    "ExecuteTime": {
     "end_time": "2019-08-01T10:47:13.713285Z",
     "start_time": "2019-08-01T10:47:13.706200Z"
    }
   },
   "outputs": [],
   "source": []
  },
  {
   "cell_type": "code",
   "execution_count": 27,
   "metadata": {
    "ExecuteTime": {
     "end_time": "2019-08-01T10:47:19.195231Z",
     "start_time": "2019-08-01T10:47:19.189975Z"
    }
   },
   "outputs": [
    {
     "data": {
      "text/plain": [
       "False"
      ]
     },
     "execution_count": 27,
     "metadata": {},
     "output_type": "execute_result"
    }
   ],
   "source": [
    "test1.root == trie1"
   ]
  },
  {
   "cell_type": "code",
   "execution_count": 28,
   "metadata": {
    "ExecuteTime": {
     "end_time": "2019-08-01T10:47:23.011285Z",
     "start_time": "2019-08-01T10:47:23.003405Z"
    }
   },
   "outputs": [
    {
     "data": {
      "text/plain": [
       "{'t': {'e': {'s': {'t': {'*': True}}}},\n",
       " 'e': {'s': {'t': {'*': True}}},\n",
       " 's': {'t': {'*': True}}}"
      ]
     },
     "execution_count": 28,
     "metadata": {},
     "output_type": "execute_result"
    }
   ],
   "source": [
    "test1.root"
   ]
  },
  {
   "cell_type": "code",
   "execution_count": 29,
   "metadata": {
    "ExecuteTime": {
     "end_time": "2019-08-01T10:47:26.090807Z",
     "start_time": "2019-08-01T10:47:26.082287Z"
    }
   },
   "outputs": [
    {
     "data": {
      "text/plain": [
       "{'t': {'*': True, 'e': {'s': {'t': {'*': True}}}},\n",
       " 's': {'t': {'*': True}},\n",
       " 'e': {'s': {'t': {'*': True}}}}"
      ]
     },
     "execution_count": 29,
     "metadata": {},
     "output_type": "execute_result"
    }
   ],
   "source": []
  },
  {
   "cell_type": "code",
   "execution_count": null,
   "metadata": {},
   "outputs": [],
   "source": []
  }
 ],
 "metadata": {
  "kernelspec": {
   "display_name": "Python 3",
   "language": "python",
   "name": "python3"
  },
  "language_info": {
   "codemirror_mode": {
    "name": "ipython",
    "version": 3
   },
   "file_extension": ".py",
   "mimetype": "text/x-python",
   "name": "python",
   "nbconvert_exporter": "python",
   "pygments_lexer": "ipython3",
   "version": "3.7.3"
  }
 },
 "nbformat": 4,
 "nbformat_minor": 2
}
