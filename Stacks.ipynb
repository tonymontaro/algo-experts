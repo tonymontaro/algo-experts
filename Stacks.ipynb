{
 "cells": [
  {
   "cell_type": "code",
   "execution_count": 1,
   "metadata": {
    "ExecuteTime": {
     "end_time": "2019-07-31T11:10:32.077497Z",
     "start_time": "2019-07-31T11:10:32.066231Z"
    }
   },
   "outputs": [],
   "source": [
    "# O(1) time n space for all methods\n",
    "class MinMaxStack:\n",
    "    def __init__(self):\n",
    "        self.stack = []\n",
    "    \n",
    "    def peek(self):\n",
    "        if self.stack:\n",
    "            return self.stack[-1][0]\n",
    "\n",
    "    def pop(self):\n",
    "        if self.stack:\n",
    "            last = self.stack.pop()\n",
    "            return last[0]\n",
    "    \n",
    "    def push(self, number):\n",
    "        if self.stack:\n",
    "            min_num = min(self.getMin(), number)\n",
    "            max_num = max(self.getMax(), number)\n",
    "        else:\n",
    "            min_num = max_num = number\n",
    "        self.stack.append((number, min_num, max_num))\n",
    "\n",
    "    def getMin(self):\n",
    "        if self.stack:\n",
    "            return self.stack[-1][1]\n",
    "\n",
    "    def getMax(self):\n",
    "        if self.stack:\n",
    "            return self.stack[-1][2]\n"
   ]
  },
  {
   "cell_type": "code",
   "execution_count": 15,
   "metadata": {
    "ExecuteTime": {
     "end_time": "2019-07-31T11:22:13.692423Z",
     "start_time": "2019-07-31T11:22:13.675500Z"
    }
   },
   "outputs": [
    {
     "name": "stdout",
     "output_type": "stream",
     "text": [
      "5 mi\n",
      "7 ma\n",
      "7\n",
      "2 mi\n",
      "7 ma\n",
      "2\n",
      "2 ==pop\n",
      "5 mi\n",
      "7 ma\n",
      "7\n",
      "7 ==pop\n",
      "5 mi\n",
      "5 ma\n",
      "5\n"
     ]
    }
   ],
   "source": [
    "st = MinMaxStack()\n",
    "st.push(5)\n",
    "st.push(7)\n",
    "print(st.getMin(), 'mi')\n",
    "print(st.getMax(), 'ma')\n",
    "print(st.peek())\n",
    "st.push(2)\n",
    "print(st.getMin(), 'mi')\n",
    "print(st.getMax(), 'ma')\n",
    "print(st.peek())\n",
    "print(st.pop(), '==pop')\n",
    "print(st.getMin(), 'mi')\n",
    "print(st.getMax(), 'ma')\n",
    "print(st.peek())\n",
    "print(st.pop(), '==pop')\n",
    "print(st.getMin(), 'mi')\n",
    "print(st.getMax(), 'ma')\n",
    "print(st.peek())"
   ]
  },
  {
   "cell_type": "code",
   "execution_count": 11,
   "metadata": {
    "ExecuteTime": {
     "end_time": "2019-07-31T11:11:58.350616Z",
     "start_time": "2019-07-31T11:11:58.347295Z"
    }
   },
   "outputs": [],
   "source": []
  },
  {
   "cell_type": "code",
   "execution_count": 33,
   "metadata": {
    "ExecuteTime": {
     "end_time": "2019-07-31T16:11:28.490820Z",
     "start_time": "2019-07-31T16:11:28.479340Z"
    }
   },
   "outputs": [
    {
     "data": {
      "text/plain": [
       "True"
      ]
     },
     "execution_count": 33,
     "metadata": {},
     "output_type": "execute_result"
    }
   ],
   "source": [
    "# O(n) time | O(n) space\n",
    "def balancedBrackets(string):\n",
    "    bracketsMap = {'(':')', '[':']', '{':'}'}\n",
    "    brackets = []\n",
    "    for item in string:\n",
    "        if item in bracketsMap:\n",
    "            brackets.append(item)\n",
    "        elif (not brackets) or (bracketsMap[brackets.pop()] != item):\n",
    "            return False\n",
    "    return len(brackets) == 0\n",
    "balancedBrackets(\"([])(){}(())()()\")"
   ]
  },
  {
   "cell_type": "code",
   "execution_count": 32,
   "metadata": {
    "ExecuteTime": {
     "end_time": "2019-07-31T16:10:44.555533Z",
     "start_time": "2019-07-31T16:10:44.546584Z"
    }
   },
   "outputs": [
    {
     "name": "stdout",
     "output_type": "stream",
     "text": [
      "False\n",
      "True\n",
      "False\n",
      "True\n",
      "False\n",
      "False\n"
     ]
    }
   ],
   "source": [
    "print(balancedBrackets(\"[(])\")) # f\n",
    "print(balancedBrackets(\"\")) # t\n",
    "print(balancedBrackets(\"[\")) # f\n",
    "print(balancedBrackets(\"[]\")) # t\n",
    "print(balancedBrackets(\"[])(\")) # f\n",
    "print(balancedBrackets(\")(\")) # f"
   ]
  },
  {
   "cell_type": "code",
   "execution_count": null,
   "metadata": {},
   "outputs": [],
   "source": []
  }
 ],
 "metadata": {
  "kernelspec": {
   "display_name": "Python 3",
   "language": "python",
   "name": "python3"
  },
  "language_info": {
   "codemirror_mode": {
    "name": "ipython",
    "version": 3
   },
   "file_extension": ".py",
   "mimetype": "text/x-python",
   "name": "python",
   "nbconvert_exporter": "python",
   "pygments_lexer": "ipython3",
   "version": "3.7.3"
  }
 },
 "nbformat": 4,
 "nbformat_minor": 2
}
