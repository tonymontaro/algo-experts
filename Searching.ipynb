{
 "cells": [
  {
   "cell_type": "markdown",
   "metadata": {},
   "source": [
    "Search In Sorted Matrix\n",
    "You are given a two-dimensional array (matrix)\tof distinct integers where each row is sorted and each column is also sorted. The matrix does not necessarily have\n",
    "the same height and width. You are also given a target number, and you must write a function that returns an array of the row and column indices of the target\n",
    "number if it is contained in the matrix and [-1, -1]\tif it is not contained in the matrix.\n",
    "Sample input:\n",
    "    \n",
    "[\n",
    "[1, 4, 7, 12, 15, 1000],\n",
    "\n",
    "[2, 5, 19, 31, 32, 1001],\n",
    "\n",
    "[3, 8, 24, 33, 35, 1002],\n",
    "\n",
    "[40, 41, 42, 44, 45, 1003],\n",
    "\n",
    "[99, 100, 103, 106, 128, 1004],\n",
    "],\n",
    "\n",
    "44\n",
    "\n",
    "Sample output: [3, 3]"
   ]
  },
  {
   "cell_type": "code",
   "execution_count": 52,
   "metadata": {
    "ExecuteTime": {
     "end_time": "2019-07-30T23:54:10.034566Z",
     "start_time": "2019-07-30T23:54:10.008617Z"
    }
   },
   "outputs": [
    {
     "data": {
      "text/plain": [
       "[1, 2]"
      ]
     },
     "execution_count": 52,
     "metadata": {},
     "output_type": "execute_result"
    }
   ],
   "source": [
    "import bisect\n",
    "\n",
    "# O(logR + logC)\n",
    "def searchInSortedMatrix(matrix, target):\n",
    "    r = c = 0\n",
    "    while r > -1 and c > -1:\n",
    "        c, was_found = search_rows(r, matrix, target)\n",
    "        if was_found:\n",
    "            return [r, c]\n",
    "        r, was_found = search_cols(r, c, matrix, target)\n",
    "        if was_found:\n",
    "            return [r, c]\n",
    "    return [-1, -1]\n",
    "\n",
    "def search_rows(r, matrix, value):\n",
    "    if matrix[r][0] > value:\n",
    "        return -1, False\n",
    "    ln = len(matrix[r])\n",
    "    idx = bisect.bisect_left(matrix[r], value)\n",
    "    if idx >= ln:\n",
    "        return (ln-1, False)\n",
    "    elif matrix[r][idx] == value:\n",
    "        return (idx, True)\n",
    "    else:\n",
    "        return (idx-1, False)\n",
    "\n",
    "def search_cols(r, c, matrix, value):\n",
    "    ln = len(matrix)\n",
    "    if matrix[ln-1][c] < value or matrix[r][c] > value:\n",
    "        return (-1, False)\n",
    "    top = r\n",
    "    bottom = ln-1\n",
    "    while top <= bottom:\n",
    "        mid = (top + bottom)//2\n",
    "        num = matrix[mid][c]\n",
    "        if num == value:\n",
    "            return (mid, True)\n",
    "        elif num > value:\n",
    "            if mid > 0 and matrix[mid-1][c] < value:\n",
    "                return (mid, False)\n",
    "            bottom = mid - 1\n",
    "        else:\n",
    "            top = mid + 1\n",
    "        \n",
    "    \n",
    "matrix = [ [1, 4,   7,   12,   15,  1000],\n",
    "            [2, 5,  19,  31,   32,  1001],\n",
    "            [3, 8,  24,  33,   35,  1002],\n",
    "            [40, 41, 42,  44,   45,  1003],\n",
    "            [99, 100, 103, 106, 128, 1004], ]\n",
    "\n",
    "searchInSortedMatrix(matrix, 19)"
   ]
  },
  {
   "cell_type": "code",
   "execution_count": 28,
   "metadata": {
    "ExecuteTime": {
     "end_time": "2019-07-30T23:37:42.111292Z",
     "start_time": "2019-07-30T23:37:42.103302Z"
    }
   },
   "outputs": [
    {
     "name": "stdout",
     "output_type": "stream",
     "text": [
      "15\n"
     ]
    },
    {
     "data": {
      "text/plain": [
       "(-1, False)"
      ]
     },
     "execution_count": 28,
     "metadata": {},
     "output_type": "execute_result"
    }
   ],
   "source": []
  },
  {
   "cell_type": "code",
   "execution_count": 10,
   "metadata": {
    "ExecuteTime": {
     "end_time": "2019-07-30T23:09:22.576625Z",
     "start_time": "2019-07-30T23:09:22.571314Z"
    }
   },
   "outputs": [],
   "source": [
    "\n"
   ]
  },
  {
   "cell_type": "code",
   "execution_count": 22,
   "metadata": {
    "ExecuteTime": {
     "end_time": "2019-07-30T23:16:16.638598Z",
     "start_time": "2019-07-30T23:16:16.629644Z"
    }
   },
   "outputs": [
    {
     "data": {
      "text/plain": [
       "0"
      ]
     },
     "execution_count": 22,
     "metadata": {},
     "output_type": "execute_result"
    }
   ],
   "source": [
    "arr = [1, 4, 7, 12, 15, 1000]\n",
    "bisect.bisect_left(arr, 0)"
   ]
  },
  {
   "cell_type": "code",
   "execution_count": null,
   "metadata": {},
   "outputs": [],
   "source": []
  }
 ],
 "metadata": {
  "kernelspec": {
   "display_name": "Python 3",
   "language": "python",
   "name": "python3"
  },
  "language_info": {
   "codemirror_mode": {
    "name": "ipython",
    "version": 3
   },
   "file_extension": ".py",
   "mimetype": "text/x-python",
   "name": "python",
   "nbconvert_exporter": "python",
   "pygments_lexer": "ipython3",
   "version": "3.7.3"
  }
 },
 "nbformat": 4,
 "nbformat_minor": 2
}
