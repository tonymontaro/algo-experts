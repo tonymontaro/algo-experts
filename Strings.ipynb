{
 "cells": [
  {
   "cell_type": "code",
   "execution_count": 47,
   "metadata": {
    "ExecuteTime": {
     "end_time": "2019-07-31T19:43:03.734263Z",
     "start_time": "2019-07-31T19:43:03.719730Z"
    }
   },
   "outputs": [
    {
     "data": {
      "text/plain": [
       "'zzzzzzzzzz'"
      ]
     },
     "execution_count": 47,
     "metadata": {},
     "output_type": "execute_result"
    }
   ],
   "source": [
    "# O(n**2) time | O(1) space\n",
    "def longestPalindromicSubstring(arr):\n",
    "    longest = (0, 1)\n",
    "    for i in range(1, len(arr)-1):\n",
    "        if arr[i] == arr[i+1]:\n",
    "            longest = getLongerPalindrome(i, i+1, arr, longest)\n",
    "        if arr[i-1] == arr[i+1]:\n",
    "            longest = getLongerPalindrome(i, i, arr, longest)\n",
    "    return arr[longest[0]:longest[1]]\n",
    "\n",
    "def getLongerPalindrome(i, j, arr, longest):\n",
    "    while i >= 0 and j < len(arr) and arr[i] == arr[j]:\n",
    "        i -= 1\n",
    "        j += 1\n",
    "    substring = arr[i+1:j]\n",
    "    return (i+1, j) if j-(i+1) > longest[1] - longest[0] else longest\n",
    "\n",
    "# longestPalindromicSubstring(\"abaxyzzyxf\")\n",
    "\n",
    "longestPalindromicSubstring(\"zzzzzzzzzz\")"
   ]
  },
  {
   "cell_type": "code",
   "execution_count": 48,
   "metadata": {
    "ExecuteTime": {
     "end_time": "2019-07-31T19:43:05.757382Z",
     "start_time": "2019-07-31T19:43:05.751301Z"
    }
   },
   "outputs": [
    {
     "data": {
      "text/plain": [
       "'xyzzyx'"
      ]
     },
     "execution_count": 48,
     "metadata": {},
     "output_type": "execute_result"
    }
   ],
   "source": [
    "longestPalindromicSubstring(\"abaxyzzyxf\")"
   ]
  },
  {
   "cell_type": "code",
   "execution_count": 49,
   "metadata": {
    "ExecuteTime": {
     "end_time": "2019-07-31T19:43:06.080417Z",
     "start_time": "2019-07-31T19:43:06.075061Z"
    }
   },
   "outputs": [
    {
     "data": {
      "text/plain": [
       "'gnung'"
      ]
     },
     "execution_count": 49,
     "metadata": {},
     "output_type": "execute_result"
    }
   ],
   "source": [
    "longestPalindromicSubstring(\" dfgnunghhbr\")"
   ]
  },
  {
   "cell_type": "code",
   "execution_count": null,
   "metadata": {},
   "outputs": [],
   "source": []
  }
 ],
 "metadata": {
  "kernelspec": {
   "display_name": "Python 3",
   "language": "python",
   "name": "python3"
  },
  "language_info": {
   "codemirror_mode": {
    "name": "ipython",
    "version": 3
   },
   "file_extension": ".py",
   "mimetype": "text/x-python",
   "name": "python",
   "nbconvert_exporter": "python",
   "pygments_lexer": "ipython3",
   "version": "3.7.3"
  }
 },
 "nbformat": 4,
 "nbformat_minor": 2
}
