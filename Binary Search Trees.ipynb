{
 "cells": [
  {
   "cell_type": "markdown",
   "metadata": {},
   "source": [
    "![img](https://www.dropbox.com/s/al0npwevbrs2gaa/Screenshot%202019-06-09%2010.03.59.png?raw=1)"
   ]
  },
  {
   "cell_type": "code",
   "execution_count": 1,
   "metadata": {
    "ExecuteTime": {
     "end_time": "2019-07-14T08:20:43.806644Z",
     "start_time": "2019-07-14T08:20:43.797586Z"
    }
   },
   "outputs": [],
   "source": [
    "def findClosestValueInBst(node, target):\n",
    "    closest = float('inf')\n",
    "    while node:\n",
    "        if abs(node.value - target) < abs(closest - target):\n",
    "            closest = node.value\n",
    "        if node.value < target:\n",
    "            node = node.right\n",
    "        elif node.value > target:\n",
    "            node = node.left\n",
    "        else:\n",
    "            break\n",
    "    return closest"
   ]
  },
  {
   "cell_type": "code",
   "execution_count": null,
   "metadata": {},
   "outputs": [],
   "source": []
  },
  {
   "cell_type": "code",
   "execution_count": 151,
   "metadata": {
    "ExecuteTime": {
     "end_time": "2019-07-22T03:26:40.474249Z",
     "start_time": "2019-07-22T03:26:40.450273Z"
    }
   },
   "outputs": [],
   "source": [
    "class BST:\n",
    "    def __init__(self, value, left=None, right=None):\n",
    "        self.value = value\n",
    "        self.left = left\n",
    "        self.right = right\n",
    "\n",
    "    def insert(self, value):\n",
    "        if value < self.value:\n",
    "            if not self.left:\n",
    "                self.left = BST(value)\n",
    "            else:\n",
    "                self.left.insert(value)\n",
    "        else:\n",
    "            if not self.right:\n",
    "                self.right = BST(value)\n",
    "            else:\n",
    "                self.right.insert(value)\n",
    "        return self\n",
    "\n",
    "    def contains(self, value):\n",
    "        if self.value == value:\n",
    "            return True\n",
    "        elif self.left and value < self.value:\n",
    "            return self.left.contains(value)\n",
    "        elif self.right and value > self.value:\n",
    "            return self.right.contains(value)\n",
    "        return False\n",
    "\n",
    "    def remove(self, value):\n",
    "        node = self\n",
    "        if self.value == value:\n",
    "            self._remove(self, 'left')\n",
    "        \n",
    "        while node:\n",
    "            if node.left and node.left.value == value:\n",
    "                self._remove(node.left, 'left', node)\n",
    "                break\n",
    "            elif node.right and node.right.value == value:\n",
    "                self._remove(node.right, 'right', node)\n",
    "                break\n",
    "                \n",
    "            if value < node.value:\n",
    "                node = node.left\n",
    "            else:\n",
    "                node = node.right\n",
    "        return self\n",
    "    \n",
    "    def _remove(self, node, type_, parent=None):\n",
    "        \n",
    "        if not node.left and not node.right:\n",
    "            if parent:\n",
    "                return setattr(parent, type_, None)\n",
    "            return None\n",
    "        if node.left is None:\n",
    "            if parent:\n",
    "                return setattr(parent, type_, node.right)\n",
    "            node.value = node.right.value\n",
    "            node.left = node.right.left\n",
    "            node.right = node.right.right\n",
    "            return node\n",
    "        if node.right is None:\n",
    "            if parent:\n",
    "                return setattr(parent, type_, node.left)\n",
    "            node.value = node.left.value\n",
    "            node.right = node.left.right\n",
    "            node.left = node.left.left\n",
    "            return node\n",
    "        \n",
    "       \n",
    "        min_right = node.right\n",
    "        if node.right.left is None:\n",
    "            node.right = node.right.right\n",
    "            return\n",
    "        while min_right.left:\n",
    "            if min_right.left.left is None:\n",
    "                node.value = min_right.left.value\n",
    "                min_right.left = min_right.left.right\n",
    "                return\n",
    "            min_right = min_right.left\n",
    "        \n",
    "    \n",
    "    def format(self, spacing=1):\n",
    "        space = ' ' * spacing\n",
    "        spacing += 2\n",
    "        left = self.left.format(spacing) if self.left else 'None'\n",
    "        right = self.right.format(spacing) if self.right else 'None'\n",
    "        return \"{0} ->\\n{3}({1}, \\n {3}{2})\".format(\n",
    "            self.value, \n",
    "            left, \n",
    "            right, \n",
    "            space)\n",
    "    def __repr__(self):\n",
    "        return self.format(2)\n"
   ]
  },
  {
   "cell_type": "code",
   "execution_count": null,
   "metadata": {
    "ExecuteTime": {
     "end_time": "2019-07-21T12:01:31.743496Z",
     "start_time": "2019-07-21T12:01:31.729916Z"
    }
   },
   "outputs": [],
   "source": [
    "bb = BST(10).insert(5).insert(15).insert(22).insert(17).insert(34)\\\n",
    ".insert(7).insert(2).insert(5).insert(1).insert(35).insert(27).insert(16)\\\n",
    ".insert(30)\n",
    "print(bb)\n",
    "bb.remove(22)\n",
    "bb"
   ]
  },
  {
   "cell_type": "code",
   "execution_count": 139,
   "metadata": {
    "ExecuteTime": {
     "end_time": "2019-07-21T12:16:18.512255Z",
     "start_time": "2019-07-21T12:16:18.501270Z"
    }
   },
   "outputs": [],
   "source": [
    "class BST:\n",
    "    def __init__(self, value, left=None, right=None):\n",
    "        self.value = value\n",
    "        self.left = left\n",
    "        self.right = right\n",
    "    def insert(self, value):\n",
    "        currentNode = self\n",
    "        while True:\n",
    "            if value < currentNode.value:\n",
    "                if currentNode.left is None:\n",
    "                    currentNode.left = BST(value)\n",
    "                    break\n",
    "                else:\n",
    "                    currentNode = currentNode.left\n",
    "            else:\n",
    "                if currentNode.right is None:\n",
    "                    currentNode.right = BST(value)\n",
    "                    break\n",
    "                else:\n",
    "                    currentNode = currentNode.right\n",
    "        return self\n",
    "    \n",
    "    def contains(self, value):\n",
    "        currentNode = self\n",
    "        while currentNode:\n",
    "            if currentNode.value == value:\n",
    "                return True\n",
    "            currentNode = currentNode.left if value < currentNode.value else currentNode.right\n",
    "        return False\n",
    "    \n",
    "    def remove(self, value):\n",
    "        return self"
   ]
  },
  {
   "cell_type": "code",
   "execution_count": null,
   "metadata": {},
   "outputs": [],
   "source": [
    "\n"
   ]
  },
  {
   "cell_type": "markdown",
   "metadata": {},
   "source": [
    "# Validate BST"
   ]
  },
  {
   "cell_type": "code",
   "execution_count": 163,
   "metadata": {
    "ExecuteTime": {
     "end_time": "2019-07-22T09:47:29.560168Z",
     "start_time": "2019-07-22T09:47:29.553722Z"
    }
   },
   "outputs": [
    {
     "data": {
      "text/plain": [
       "False"
      ]
     },
     "execution_count": 163,
     "metadata": {},
     "output_type": "execute_result"
    }
   ],
   "source": [
    "all([1, 0])"
   ]
  },
  {
   "cell_type": "code",
   "execution_count": 182,
   "metadata": {
    "ExecuteTime": {
     "end_time": "2019-07-22T09:55:08.492195Z",
     "start_time": "2019-07-22T09:55:08.482880Z"
    }
   },
   "outputs": [],
   "source": [
    "def traverse(node, arr, min_max=(-float('inf'), float('inf'))):\n",
    "    if node:\n",
    "        val = node.value\n",
    "        traverse(node.left, arr, (min_max[0], node.value))\n",
    "        outcome = 1 if (val < min_max[1] and val >= min_max[0]) else 0\n",
    "        arr.append(outcome)\n",
    "        traverse(node.right, arr, (node.value, min_max[1]))\n",
    "    return arr\n",
    "\n",
    "def validateBst(tree):\n",
    "    result = traverse(tree, [])\n",
    "    return all(result)"
   ]
  },
  {
   "cell_type": "code",
   "execution_count": 183,
   "metadata": {
    "ExecuteTime": {
     "end_time": "2019-07-22T09:55:09.717055Z",
     "start_time": "2019-07-22T09:55:09.709100Z"
    }
   },
   "outputs": [
    {
     "data": {
      "text/plain": [
       "True"
      ]
     },
     "execution_count": 183,
     "metadata": {},
     "output_type": "execute_result"
    }
   ],
   "source": [
    "validateBst(bb)"
   ]
  },
  {
   "cell_type": "code",
   "execution_count": 177,
   "metadata": {
    "ExecuteTime": {
     "end_time": "2019-07-22T09:54:50.435221Z",
     "start_time": "2019-07-22T09:54:50.427745Z"
    }
   },
   "outputs": [
    {
     "data": {
      "text/plain": [
       "10 ->\n",
       "  (5 ->\n",
       "    (None, \n",
       "     10 ->\n",
       "      (None, \n",
       "       None)), \n",
       "   15 ->\n",
       "    (None, \n",
       "     None))"
      ]
     },
     "execution_count": 177,
     "metadata": {},
     "output_type": "execute_result"
    }
   ],
   "source": [
    "aa = BST(10).insert(5).insert(15)\n",
    "aa.left.right = BST(10)\n",
    "aa"
   ]
  },
  {
   "cell_type": "code",
   "execution_count": 190,
   "metadata": {
    "ExecuteTime": {
     "end_time": "2019-07-23T09:03:23.942716Z",
     "start_time": "2019-07-23T09:03:23.933765Z"
    }
   },
   "outputs": [
    {
     "data": {
      "text/plain": [
       "10 ->\n",
       "  (5 ->\n",
       "    (2 ->\n",
       "      (1 ->\n",
       "        (None, \n",
       "         None), \n",
       "       None), \n",
       "     5 ->\n",
       "      (None, \n",
       "       None)), \n",
       "   15 ->\n",
       "    (None, \n",
       "     22 ->\n",
       "      (None, \n",
       "       None)))"
      ]
     },
     "execution_count": 190,
     "metadata": {},
     "output_type": "execute_result"
    }
   ],
   "source": [
    "root_node = BST(10).insert(15).insert(5).insert(2).insert(5).insert(1)\n",
    "root_node.insert(22)\n",
    "root_node"
   ]
  },
  {
   "cell_type": "code",
   "execution_count": 212,
   "metadata": {
    "ExecuteTime": {
     "end_time": "2019-07-23T10:18:49.396047Z",
     "start_time": "2019-07-23T10:18:49.386813Z"
    }
   },
   "outputs": [],
   "source": [
    "# O(n) time | O(n) space if storing in array or O(d) if not (d = depth of tree)\n",
    "def inOrderTraverse(tree, array):\n",
    "    if tree:\n",
    "        inOrderTraverse(tree.left, array)\n",
    "        array.append(tree.value)\n",
    "        inOrderTraverse(tree.right, array)\n",
    "    return array\n",
    "\n",
    "def preOrderTraverse(tree, array):\n",
    "    if tree:\n",
    "        array.append(tree.value)\n",
    "        preOrderTraverse(tree.left, array)\n",
    "        preOrderTraverse(tree.right, array)\n",
    "    return array\n",
    "\n",
    "def postOrderTraverse(tree, array):\n",
    "    if tree:\n",
    "        postOrderTraverse(tree.left, array)\n",
    "        postOrderTraverse(tree.right, array)\n",
    "        array.append(tree.value)\n",
    "    return array"
   ]
  },
  {
   "cell_type": "code",
   "execution_count": 213,
   "metadata": {
    "ExecuteTime": {
     "end_time": "2019-07-23T10:18:49.925778Z",
     "start_time": "2019-07-23T10:18:49.917507Z"
    }
   },
   "outputs": [],
   "source": [
    "root_node = BST(10).insert(15).insert(5).insert(2).insert(5).insert(1)\n",
    "root_node.insert(22)\n",
    "assert inOrderTraverse(root_node, []) == [1, 2, 5, 5, 10, 15, 22]\n",
    "assert preOrderTraverse(root_node, []) == [10, 5, 2, 1, 5, 15, 22]\n",
    "assert postOrderTraverse(root_node, []) == [1, 2, 5, 5, 22, 15, 10]"
   ]
  },
  {
   "cell_type": "code",
   "execution_count": 209,
   "metadata": {
    "ExecuteTime": {
     "end_time": "2019-07-23T09:24:46.924537Z",
     "start_time": "2019-07-23T09:24:46.918029Z"
    }
   },
   "outputs": [
    {
     "data": {
      "text/plain": [
       "[10, 5, 2, 1, 5, 15, 22]"
      ]
     },
     "execution_count": 209,
     "metadata": {},
     "output_type": "execute_result"
    }
   ],
   "source": [
    "preOrderTraverse(root_node, [])"
   ]
  },
  {
   "cell_type": "code",
   "execution_count": null,
   "metadata": {
    "ExecuteTime": {
     "end_time": "2019-07-23T09:24:01.998428Z",
     "start_time": "2019-07-23T09:24:01.990590Z"
    }
   },
   "outputs": [],
   "source": [
    "root_node"
   ]
  },
  {
   "cell_type": "code",
   "execution_count": null,
   "metadata": {},
   "outputs": [],
   "source": []
  }
 ],
 "metadata": {
  "kernelspec": {
   "display_name": "Python 3",
   "language": "python",
   "name": "python3"
  },
  "language_info": {
   "codemirror_mode": {
    "name": "ipython",
    "version": 3
   },
   "file_extension": ".py",
   "mimetype": "text/x-python",
   "name": "python",
   "nbconvert_exporter": "python",
   "pygments_lexer": "ipython3",
   "version": "3.7.3"
  }
 },
 "nbformat": 4,
 "nbformat_minor": 2
}
