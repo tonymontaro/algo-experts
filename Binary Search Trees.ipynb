{
 "cells": [
  {
   "cell_type": "markdown",
   "metadata": {},
   "source": [
    "![img](https://www.dropbox.com/s/al0npwevbrs2gaa/Screenshot%202019-06-09%2010.03.59.png?raw=1)"
   ]
  },
  {
   "cell_type": "code",
   "execution_count": 1,
   "metadata": {
    "ExecuteTime": {
     "end_time": "2019-07-14T08:20:43.806644Z",
     "start_time": "2019-07-14T08:20:43.797586Z"
    }
   },
   "outputs": [],
   "source": [
    "def findClosestValueInBst(node, target):\n",
    "    closest = float('inf')\n",
    "    while node:\n",
    "        if abs(node.value - target) < abs(closest - target):\n",
    "            closest = node.value\n",
    "        if node.value < target:\n",
    "            node = node.right\n",
    "        elif node.value > target:\n",
    "            node = node.left\n",
    "        else:\n",
    "            break\n",
    "    return closest"
   ]
  },
  {
   "cell_type": "code",
   "execution_count": null,
   "metadata": {},
   "outputs": [],
   "source": []
  },
  {
   "cell_type": "code",
   "execution_count": null,
   "metadata": {},
   "outputs": [],
   "source": []
  },
  {
   "cell_type": "code",
   "execution_count": 59,
   "metadata": {
    "ExecuteTime": {
     "end_time": "2019-07-21T10:17:08.818310Z",
     "start_time": "2019-07-21T10:17:08.804278Z"
    }
   },
   "outputs": [],
   "source": [
    "class BST:\n",
    "    def __init__(self, value, left=None, right=None):\n",
    "        self.value = value\n",
    "        self.left = left\n",
    "        self.right = right\n",
    "\n",
    "    def insert(self, value):\n",
    "        if value < self.value:\n",
    "            if not self.left:\n",
    "                self.left = BST(value)\n",
    "            else:\n",
    "                self.left.insert(value)\n",
    "        else:\n",
    "            if not self.right:\n",
    "                self.right = BST(value)\n",
    "            else:\n",
    "                self.right.insert(value)\n",
    "        return self\n",
    "\n",
    "    def contains(self, value):\n",
    "        if self.value == value:\n",
    "            return True\n",
    "        elif self.left and value < self.value:\n",
    "            return self.left.contains(value)\n",
    "        elif self.right and value > self.value:\n",
    "            return self.right.contains(value)\n",
    "        return False\n",
    "\n",
    "    def remove(self, value):\n",
    "        # Write your code here.\n",
    "        # Do not edit the return statement of this method.\n",
    "        return self\n",
    "    \n",
    "    def format(self, spacing=1):\n",
    "        space = ' ' * spacing\n",
    "        spacing += 2\n",
    "        left = self.left.format(spacing) if self.left else 'None'\n",
    "        right = self.right.format(spacing) if self.right else 'None'\n",
    "        return \"{0} ->\\n{3}({1}, \\n {3}{2})\".format(\n",
    "            self.value, \n",
    "            left, \n",
    "            right, \n",
    "            space)\n",
    "    def __repr__(self):\n",
    "        return self.format(2)\n"
   ]
  },
  {
   "cell_type": "code",
   "execution_count": 60,
   "metadata": {
    "ExecuteTime": {
     "end_time": "2019-07-21T10:17:09.460833Z",
     "start_time": "2019-07-21T10:17:09.452199Z"
    }
   },
   "outputs": [
    {
     "data": {
      "text/plain": [
       "10 ->\n",
       "  (5 ->\n",
       "    (None, \n",
       "     5 ->\n",
       "      (None, \n",
       "       None)), \n",
       "   15 ->\n",
       "    (None, \n",
       "     None))"
      ]
     },
     "execution_count": 60,
     "metadata": {},
     "output_type": "execute_result"
    }
   ],
   "source": [
    "bb = BST(10).insert(5).insert(15).insert(5)\n",
    "bb"
   ]
  },
  {
   "cell_type": "code",
   "execution_count": 54,
   "metadata": {
    "ExecuteTime": {
     "end_time": "2019-07-21T10:16:01.476180Z",
     "start_time": "2019-07-21T10:16:01.467688Z"
    }
   },
   "outputs": [
    {
     "data": {
      "text/plain": [
       "10 ->\n",
       "  (5 ->\n",
       "    (None, \n",
       "     None), \n",
       "   15 ->\n",
       "    (None, \n",
       "     None))"
      ]
     },
     "execution_count": 54,
     "metadata": {},
     "output_type": "execute_result"
    }
   ],
   "source": []
  },
  {
   "cell_type": "code",
   "execution_count": null,
   "metadata": {},
   "outputs": [],
   "source": []
  },
  {
   "cell_type": "code",
   "execution_count": 42,
   "metadata": {
    "ExecuteTime": {
     "end_time": "2019-07-21T10:08:51.009686Z",
     "start_time": "2019-07-21T10:08:51.000738Z"
    }
   },
   "outputs": [
    {
     "data": {
      "text/plain": [
       "10 ->\n",
       "  (5 ->\n",
       "    (2 ->\n",
       "      (1 ->\n",
       "        (None, \n",
       "         None), \n",
       "       None), \n",
       "     5 ->\n",
       "      (None, \n",
       "       None)), \n",
       "   15 ->\n",
       "    (13 ->\n",
       "      (None, \n",
       "       14 ->\n",
       "        (None, \n",
       "         None)), \n",
       "     22 ->\n",
       "      (None, \n",
       "       None)))"
      ]
     },
     "execution_count": 42,
     "metadata": {},
     "output_type": "execute_result"
    }
   ],
   "source": [
    "aa = BST(10, \n",
    "         BST(5, BST(2, BST(1)), BST(5)), \n",
    "         BST(15, BST(13, None, BST(14)), BST(22)))\n",
    "aa"
   ]
  },
  {
   "cell_type": "code",
   "execution_count": null,
   "metadata": {},
   "outputs": [],
   "source": []
  },
  {
   "cell_type": "code",
   "execution_count": 44,
   "metadata": {
    "ExecuteTime": {
     "end_time": "2019-07-21T10:09:02.207177Z",
     "start_time": "2019-07-21T10:09:02.198163Z"
    }
   },
   "outputs": [
    {
     "data": {
      "text/plain": [
       "True"
      ]
     },
     "execution_count": 44,
     "metadata": {},
     "output_type": "execute_result"
    }
   ],
   "source": [
    "aa.contains(14)"
   ]
  },
  {
   "cell_type": "code",
   "execution_count": null,
   "metadata": {},
   "outputs": [],
   "source": []
  }
 ],
 "metadata": {
  "kernelspec": {
   "display_name": "Python 3",
   "language": "python",
   "name": "python3"
  },
  "language_info": {
   "codemirror_mode": {
    "name": "ipython",
    "version": 3
   },
   "file_extension": ".py",
   "mimetype": "text/x-python",
   "name": "python",
   "nbconvert_exporter": "python",
   "pygments_lexer": "ipython3",
   "version": "3.7.3"
  }
 },
 "nbformat": 4,
 "nbformat_minor": 2
}
