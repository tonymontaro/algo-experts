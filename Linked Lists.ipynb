{
 "cells": [
  {
   "cell_type": "markdown",
   "metadata": {},
   "source": [
    "### Remove Kth Node From End\n",
    "\n",
    "Write a function that takes in the head of a Singly Linked List and an integer k (assume that the list has at least k nodes). The function should remove the kth node\n",
    "from the end of the list. Note that every node in the Singly Linked List has a \"value\" property storing its value as well as a \"next\" property pointing to the next node\n",
    "in the list or None (null)\tif it is the tail of the list.\n",
    "\n",
    "Sample input: 0 -> 1 -> 2 -> 3 -> 4 -> 5 -> 6 -> 7 -> 8 -> 9, 4\n",
    "\n",
    "Sample output: 0 -> 1 -> 2 -> 3 -> 4 -> 5 -> 7 -> 8 -> 9"
   ]
  },
  {
   "cell_type": "code",
   "execution_count": 36,
   "metadata": {
    "ExecuteTime": {
     "end_time": "2019-07-28T23:10:39.116486Z",
     "start_time": "2019-07-28T23:10:39.100353Z"
    }
   },
   "outputs": [
    {
     "name": "stdout",
     "output_type": "stream",
     "text": [
      "0 -> 1 -> 2 -> 3 -> 4 -> 5 -> 6 -> 7 -> 8 -> 9 -> None\n",
      "0 -> 1 -> 2 -> 3 -> 4 -> 5 -> 7 -> 8 -> 9 -> None\n",
      "0 -> 1 -> 2 -> 3 -> 4 -> 5 -> 7 -> 8 -> None\n",
      "None\n"
     ]
    }
   ],
   "source": [
    "def removeChild(node):\n",
    "    if not node.next.next:\n",
    "        node.next = None\n",
    "    else:\n",
    "        node.next = node.next.next\n",
    "\n",
    "# O(N) time | O(1) space\n",
    "def removeKthNodeFromEnd(head, k):\n",
    "    back_pointer = front_ponter = head\n",
    "    for _ in range(k):\n",
    "        front_ponter = front_ponter.next\n",
    "    if not front_ponter:\n",
    "        head.value = head.next.value\n",
    "        head.next = head.next.next\n",
    "        return\n",
    "    while front_ponter.next:\n",
    "        back_pointer = back_pointer.next\n",
    "        front_ponter = front_ponter.next\n",
    "    back_pointer.next = back_pointer.next.next\n",
    "    return head\n",
    "\n",
    "class Node:\n",
    "    def __init__(self, value, next=None):\n",
    "        self.value = value\n",
    "        self.next = next\n",
    "    \n",
    "    def __repr__(self):\n",
    "        return f'{self.value} -> {self.next}'\n",
    "    \n",
    "head = Node(0, Node(1, Node(2, Node(3, Node(4, Node(5, Node(6, Node(7, Node(8, Node(9))))))))))\n",
    "print(head)\n",
    "print(removeKthNodeFromEnd(head, 4))\n",
    "print(removeKthNodeFromEnd(head, 1))\n",
    "print(removeKthNodeFromEnd(head, 8))"
   ]
  },
  {
   "cell_type": "code",
   "execution_count": 37,
   "metadata": {
    "ExecuteTime": {
     "end_time": "2019-07-28T23:10:41.636599Z",
     "start_time": "2019-07-28T23:10:41.617674Z"
    }
   },
   "outputs": [
    {
     "name": "stdout",
     "output_type": "stream",
     "text": [
      "1 -> 2 -> 3 -> 4 -> 5 -> 6 -> 7 -> 8 -> 9 -> None\n"
     ]
    },
    {
     "data": {
      "text/plain": [
       "[1, 2, 3, 4, 5, 6, 7, 8, 9]"
      ]
     },
     "execution_count": 37,
     "metadata": {},
     "output_type": "execute_result"
    }
   ],
   "source": [
    "class LinkedList:\n",
    "    def __init__(self, value):\n",
    "        self.value = value\n",
    "        self.next = None\n",
    "\n",
    "    def addMany(self, values):\n",
    "        current = self\n",
    "        while current.next is not None:\n",
    "            current = current.next\n",
    "        for value in values:\n",
    "            current.next = LinkedList(value)\n",
    "            current = current.next\n",
    "        return self\n",
    "\n",
    "    def getNodesInArray(self):\n",
    "        nodes = []\n",
    "        current = self\n",
    "        while current is not None:\n",
    "            nodes.append(current.value)\n",
    "            current = current.next\n",
    "        return nodes\n",
    "    \n",
    "    def __repr__(self):\n",
    "        return f'{self.value} -> {self.next}'\n",
    "    \n",
    "test10 = LinkedList(0).addMany([1, 2, 3, 4, 5, 6, 7, 8, 9])\n",
    "result10 = LinkedList(1).addMany([2, 3, 4, 5, 6, 7, 8, 9])\n",
    "print(result10)\n",
    "removeKthNodeFromEnd(test10, 10)\n",
    "test10.getNodesInArray()"
   ]
  },
  {
   "cell_type": "code",
   "execution_count": 38,
   "metadata": {
    "ExecuteTime": {
     "end_time": "2019-07-28T23:10:44.904164Z",
     "start_time": "2019-07-28T23:10:44.896574Z"
    }
   },
   "outputs": [
    {
     "data": {
      "text/plain": [
       "[1, 2, 3, 4, 5, 6, 7, 8, 9]"
      ]
     },
     "execution_count": 38,
     "metadata": {},
     "output_type": "execute_result"
    }
   ],
   "source": [
    "result10.getNodesInArray()"
   ]
  },
  {
   "cell_type": "code",
   "execution_count": null,
   "metadata": {},
   "outputs": [],
   "source": []
  }
 ],
 "metadata": {
  "kernelspec": {
   "display_name": "Python 3",
   "language": "python",
   "name": "python3"
  },
  "language_info": {
   "codemirror_mode": {
    "name": "ipython",
    "version": 3
   },
   "file_extension": ".py",
   "mimetype": "text/x-python",
   "name": "python",
   "nbconvert_exporter": "python",
   "pygments_lexer": "ipython3",
   "version": "3.7.3"
  }
 },
 "nbformat": 4,
 "nbformat_minor": 2
}
