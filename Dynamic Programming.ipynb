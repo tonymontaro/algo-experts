{
 "cells": [
  {
   "cell_type": "markdown",
   "metadata": {},
   "source": [
    "# === Medium ==="
   ]
  },
  {
   "cell_type": "markdown",
   "metadata": {},
   "source": [
    "![coin](https://www.dropbox.com/s/2jgcpqtk0u8p1vf/number-of-ways-to-make-coin.png?raw=1)"
   ]
  },
  {
   "cell_type": "code",
   "execution_count": 2,
   "metadata": {},
   "outputs": [],
   "source": [
    "def numberOfWaysToMakeChange(n, coins):\n",
    "    ways = [0] * (n + 1)\n",
    "    ways[0] = 1\n",
    "    for coin in coins:\n",
    "        for i in range(n + 1):\n",
    "            if coin == i:\n",
    "                ways[i] += 1\n",
    "            elif coin < i:\n",
    "                ways[i] += ways[i - coin]\n",
    "    return ways[n]"
   ]
  },
  {
   "cell_type": "code",
   "execution_count": null,
   "metadata": {},
   "outputs": [],
   "source": []
  }
 ],
 "metadata": {
  "kernelspec": {
   "display_name": "Python 3",
   "language": "python",
   "name": "python3"
  },
  "language_info": {
   "codemirror_mode": {
    "name": "ipython",
    "version": 3
   },
   "file_extension": ".py",
   "mimetype": "text/x-python",
   "name": "python",
   "nbconvert_exporter": "python",
   "pygments_lexer": "ipython3",
   "version": "3.7.3"
  }
 },
 "nbformat": 4,
 "nbformat_minor": 2
}
