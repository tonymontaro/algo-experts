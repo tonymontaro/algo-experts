{
 "cells": [
  {
   "cell_type": "markdown",
   "metadata": {},
   "source": [
    "# === Medium ==="
   ]
  },
  {
   "cell_type": "markdown",
   "metadata": {},
   "source": [
    "![coin](https://www.dropbox.com/s/2jgcpqtk0u8p1vf/number-of-ways-to-make-coin.png?raw=1)"
   ]
  },
  {
   "cell_type": "code",
   "execution_count": 2,
   "metadata": {},
   "outputs": [],
   "source": [
    "def numberOfWaysToMakeChange(n, coins):\n",
    "    ways = [0] * (n + 1)\n",
    "    ways[0] = 1\n",
    "    for coin in coins:\n",
    "        for i in range(n + 1):\n",
    "            if coin == i:\n",
    "                ways[i] += 1\n",
    "            elif coin < i:\n",
    "                ways[i] += ways[i - coin]\n",
    "    return ways[n]"
   ]
  },
  {
   "cell_type": "code",
   "execution_count": null,
   "metadata": {},
   "outputs": [],
   "source": []
  },
  {
   "cell_type": "code",
   "execution_count": null,
   "metadata": {},
   "outputs": [],
   "source": []
  },
  {
   "cell_type": "code",
   "execution_count": 44,
   "metadata": {
    "ExecuteTime": {
     "end_time": "2019-07-24T10:21:04.942079Z",
     "start_time": "2019-07-24T10:21:04.930199Z"
    }
   },
   "outputs": [],
   "source": [
    "def maxSubsetSumNoAdjacent(arr):\n",
    "    max_subsets = [0, 0, 0]\n",
    "    max_value = 0\n",
    "    i = 0\n",
    "    while i < len(arr):\n",
    "        current = arr[i]\n",
    "        prev1 = max_subsets[(i - 2) % 3] if (i - 2 >= 0) else 0\n",
    "        prev2 = max_subsets[(i - 3) % 3] if (i - 3 >= 0) else 0\n",
    "        rs = current + max(prev1, prev2)\n",
    "        max_value = max(rs, max_value)\n",
    "        max_subsets[i % 3] = (rs)\n",
    "        i += 1\n",
    "    return max_value\n",
    "\n",
    "# O(n) time | O(1) space\n",
    "def maxSubsetSumNoAdjacent(arr):\n",
    "    if not arr:\n",
    "        return 0\n",
    "    \n",
    "    prev2 = arr[0]\n",
    "    prev = max_value = max(arr[:2])\n",
    "    for i in range(2, len(arr)):\n",
    "        print(prev2, prev)\n",
    "        current = prev2 + arr[i] if (prev2 + arr[i]) >= prev else prev\n",
    "        max_value = max(max_value, current)\n",
    "        prev, prev2 = current, prev\n",
    "    return max_value"
   ]
  },
  {
   "cell_type": "code",
   "execution_count": 45,
   "metadata": {
    "ExecuteTime": {
     "end_time": "2019-07-24T10:21:05.526014Z",
     "start_time": "2019-07-24T10:21:05.514862Z"
    }
   },
   "outputs": [
    {
     "name": "stdout",
     "output_type": "stream",
     "text": [
      "75 105\n",
      "105 195\n",
      "195 195\n",
      "195 285\n"
     ]
    },
    {
     "data": {
      "text/plain": [
       "330"
      ]
     },
     "execution_count": 45,
     "metadata": {},
     "output_type": "execute_result"
    }
   ],
   "source": [
    "arr = [75, 105, 120, 75, 90, 135]\n",
    "maxSubsetSumNoAdjacent(arr)"
   ]
  },
  {
   "cell_type": "code",
   "execution_count": 46,
   "metadata": {
    "ExecuteTime": {
     "end_time": "2019-07-24T10:21:14.744824Z",
     "start_time": "2019-07-24T10:21:14.737985Z"
    }
   },
   "outputs": [
    {
     "data": {
      "text/plain": [
       "3"
      ]
     },
     "execution_count": 46,
     "metadata": {},
     "output_type": "execute_result"
    }
   ],
   "source": [
    "maxSubsetSumNoAdjacent([3])"
   ]
  },
  {
   "cell_type": "code",
   "execution_count": null,
   "metadata": {},
   "outputs": [],
   "source": []
  },
  {
   "cell_type": "code",
   "execution_count": null,
   "metadata": {},
   "outputs": [],
   "source": []
  },
  {
   "cell_type": "code",
   "execution_count": 77,
   "metadata": {
    "ExecuteTime": {
     "end_time": "2019-07-24T11:08:52.010026Z",
     "start_time": "2019-07-24T11:08:51.996049Z"
    }
   },
   "outputs": [
    {
     "data": {
      "text/plain": [
       "-1"
      ]
     },
     "execution_count": 77,
     "metadata": {},
     "output_type": "execute_result"
    }
   ],
   "source": [
    "# O(n * d) time | O(n)\n",
    "def minNumberOfCoinsForChange(n, denoms):\n",
    "    coins = sorted(denoms)\n",
    "    min_coins = {0: 0}\n",
    "    for i in range(1, n + 1):\n",
    "        min_value = float('inf')\n",
    "        for coin in coins:\n",
    "            if coin > i:\n",
    "                break\n",
    "            else:\n",
    "                diff = min_coins[i - coin]\n",
    "                if diff > 0 or (i - coin == 0):\n",
    "                    min_value = min(min_value, 1 + diff)\n",
    "        min_coins[i] = min_value if min_value != float('inf') else -1\n",
    "    return min_coins[n]\n",
    "            \n",
    "minNumberOfCoinsForChange(7, [2, 4])"
   ]
  },
  {
   "cell_type": "code",
   "execution_count": 78,
   "metadata": {
    "ExecuteTime": {
     "end_time": "2019-07-24T11:08:52.723122Z",
     "start_time": "2019-07-24T11:08:52.715538Z"
    }
   },
   "outputs": [
    {
     "data": {
      "text/plain": [
       "2"
      ]
     },
     "execution_count": 78,
     "metadata": {},
     "output_type": "execute_result"
    }
   ],
   "source": [
    "minNumberOfCoinsForChange(8, [1, 4, 6])"
   ]
  },
  {
   "cell_type": "code",
   "execution_count": 79,
   "metadata": {
    "ExecuteTime": {
     "end_time": "2019-07-24T11:08:53.504164Z",
     "start_time": "2019-07-24T11:08:53.496016Z"
    }
   },
   "outputs": [
    {
     "data": {
      "text/plain": [
       "3"
      ]
     },
     "execution_count": 79,
     "metadata": {},
     "output_type": "execute_result"
    }
   ],
   "source": [
    "minNumberOfCoinsForChange(7, [1, 5, 10])"
   ]
  },
  {
   "cell_type": "code",
   "execution_count": 80,
   "metadata": {
    "ExecuteTime": {
     "end_time": "2019-07-24T11:08:54.245059Z",
     "start_time": "2019-07-24T11:08:54.235882Z"
    }
   },
   "outputs": [
    {
     "data": {
      "text/plain": [
       "14"
      ]
     },
     "execution_count": 80,
     "metadata": {},
     "output_type": "execute_result"
    }
   ],
   "source": [
    "minNumberOfCoinsForChange(80, [1, 4, 6])"
   ]
  },
  {
   "cell_type": "code",
   "execution_count": 81,
   "metadata": {
    "ExecuteTime": {
     "end_time": "2019-07-24T11:08:55.096177Z",
     "start_time": "2019-07-24T11:08:55.089818Z"
    }
   },
   "outputs": [
    {
     "data": {
      "text/plain": [
       "3"
      ]
     },
     "execution_count": 81,
     "metadata": {},
     "output_type": "execute_result"
    }
   ],
   "source": [
    "minNumberOfCoinsForChange(9, [3, 5])"
   ]
  },
  {
   "cell_type": "code",
   "execution_count": null,
   "metadata": {},
   "outputs": [],
   "source": []
  },
  {
   "cell_type": "code",
   "execution_count": null,
   "metadata": {},
   "outputs": [],
   "source": []
  },
  {
   "cell_type": "code",
   "execution_count": 39,
   "metadata": {
    "ExecuteTime": {
     "end_time": "2019-08-05T00:04:59.035282Z",
     "start_time": "2019-08-05T00:04:59.021087Z"
    }
   },
   "outputs": [
    {
     "data": {
      "text/plain": [
       "2"
      ]
     },
     "execution_count": 39,
     "metadata": {},
     "output_type": "execute_result"
    }
   ],
   "source": [
    "# O(n * m) | O(m)\n",
    "def levenshteinDistance(str1, str2):\n",
    "    ln1, ln2 = len(str1) + 1, len(str2) + 1\n",
    "    prev = list(range(-1, ln2 - 1))\n",
    "    current = [0] * ln2\n",
    "    \n",
    "    for i in range(ln1):\n",
    "        for j in range(ln2):\n",
    "            if i == 0 or j == 0:\n",
    "                current[j] = prev[j] + 1\n",
    "            elif str1[i-1]  == str2[j-1]:\n",
    "                current[j] = prev[j-1]\n",
    "            else:\n",
    "                current[j] = 1 + min(prev[j-1], prev[j], current[j-1])\n",
    "        prev = list(current)\n",
    "    return current[-1]\n",
    "\n",
    "levenshteinDistance('abc', 'yabd') # 2"
   ]
  },
  {
   "cell_type": "markdown",
   "metadata": {
    "ExecuteTime": {
     "end_time": "2019-07-25T07:15:57.538598Z",
     "start_time": "2019-07-25T07:15:57.528415Z"
    }
   },
   "source": [
    "print(levenshteinDistance('', ''))         # 0\n",
    "print(levenshteinDistance('abc', 'abc'))   # 0\n",
    "print(levenshteinDistance('a', 'ddd'))     # 3\n",
    "print(levenshteinDistance('adgg', 'advg')) # 1"
   ]
  },
  {
   "cell_type": "markdown",
   "metadata": {},
   "source": [
    "## HARD"
   ]
  },
  {
   "cell_type": "code",
   "execution_count": 115,
   "metadata": {
    "ExecuteTime": {
     "end_time": "2019-08-05T02:18:05.188075Z",
     "start_time": "2019-08-05T02:18:05.166284Z"
    }
   },
   "outputs": [
    {
     "data": {
      "text/plain": [
       "[164, [10, 11, 14, 23, 25, 31, 50]]"
      ]
     },
     "execution_count": 115,
     "metadata": {},
     "output_type": "execute_result"
    }
   ],
   "source": [
    "# O(n) time | O(n**2) space\n",
    "def maxSumIncreasingSubsequence(array):\n",
    "    result = maxSum(array, 0, {})\n",
    "    result[1] = result[1][::-1]\n",
    "    return result\n",
    "\n",
    "def maxSum(arr, i, cache):\n",
    "    if i not in cache:\n",
    "        num = arr[i]\n",
    "        result = None\n",
    "        for j in range(i+1, len(arr)):\n",
    "            if arr[j] > num:\n",
    "                temp = maxSum(arr, j, cache)\n",
    "                if not result or temp[0] > result[0]:\n",
    "                    result = temp\n",
    "        if result and result[0] + num > result[0]:\n",
    "            result = [result[0] + num, result[1] + [num]]\n",
    "        elif not result:\n",
    "            result = [num, [num]]\n",
    "        cache[i] = result\n",
    "    return cache[i]\n",
    "\n",
    "arr = [10, 15, 4, 5, 11, 14, 31, 25, 31, 23, 25, 31, 50] # [164, [10, 11, 14, 23, 25, 31, 50]\n",
    "maxSumIncreasingSubsequence(arr)"
   ]
  },
  {
   "cell_type": "code",
   "execution_count": 118,
   "metadata": {
    "ExecuteTime": {
     "end_time": "2019-08-05T02:18:14.241964Z",
     "start_time": "2019-08-05T02:18:14.221353Z"
    }
   },
   "outputs": [
    {
     "data": {
      "text/plain": [
       "[164, [10, 11, 14, 23, 25, 31, 50]]"
      ]
     },
     "execution_count": 118,
     "metadata": {},
     "output_type": "execute_result"
    }
   ],
   "source": [
    "# O(n**2) time | O(n**2) space\n",
    "def maxSumIncreasingSubsequence(arr):\n",
    "    cache = {}\n",
    "    for i in range(len(arr)-1, -1, -1):\n",
    "        num = arr[i]\n",
    "        result = None\n",
    "        for j in range(i+1, len(arr)):\n",
    "            if arr[j] > num:\n",
    "                temp = cache[j]\n",
    "                if not result or temp[0] > result[0]:\n",
    "                    result = temp\n",
    "        if result and result[0] + num > result[0]:\n",
    "            result = [result[0] + num, result[1] + [num]]\n",
    "        elif not result:\n",
    "            result = [num, [num]]\n",
    "        cache[i] = result\n",
    "    cache[0][1] = cache[0][1][::-1]\n",
    "    return cache[0]\n",
    "        \n",
    "arr = [10, 15, 4, 5, 11, 14, 31, 25, 31, 23, 25, 31, 50] # [164, [10, 11, 14, 23, 25, 31, 50]\n",
    "maxSumIncreasingSubsequence(arr)"
   ]
  },
  {
   "cell_type": "code",
   "execution_count": null,
   "metadata": {
    "ExecuteTime": {
     "end_time": "2019-08-05T02:18:14.422878Z",
     "start_time": "2019-08-05T02:18:14.409478Z"
    }
   },
   "outputs": [],
   "source": [
    "arr = list(range(100))\n",
    "# arr = list(range(20))\n",
    "maxSumIncreasingSubsequence(arr)"
   ]
  },
  {
   "cell_type": "code",
   "execution_count": 101,
   "metadata": {
    "ExecuteTime": {
     "end_time": "2019-08-05T01:19:44.373720Z",
     "start_time": "2019-08-05T01:19:44.362647Z"
    }
   },
   "outputs": [
    {
     "name": "stdout",
     "output_type": "stream",
     "text": [
      "[110, [10, 20, 30, 50]]\n",
      "[-1, [-1]]\n",
      "[70, [70]]\n",
      "[71, [1, 70]]\n",
      "[6, [1, 2, 3]]\n"
     ]
    }
   ],
   "source": [
    "print(maxSumIncreasingSubsequence([10, 70, 20, 30, 50, 11, 30])) # [110, [10, 20, 30, 50]]\n",
    "print(maxSumIncreasingSubsequence([-2, -1, -6])) # -1, [-1]\n",
    "print(maxSumIncreasingSubsequence([-1, -3, 70, 2, 3, 10])) # 70, [70]\n",
    "print(maxSumIncreasingSubsequence([-1, 1,  -3, 70, 2, 3, 10])) # 71, [1, 70]\n",
    "print(maxSumIncreasingSubsequence([1, 2, 2, 3])) # 6, [1, 2, 3]"
   ]
  },
  {
   "cell_type": "code",
   "execution_count": 54,
   "metadata": {
    "ExecuteTime": {
     "end_time": "2019-08-05T00:12:24.859291Z",
     "start_time": "2019-08-05T00:12:24.851388Z"
    }
   },
   "outputs": [
    {
     "data": {
      "text/plain": [
       "[2, 3]"
      ]
     },
     "execution_count": 54,
     "metadata": {},
     "output_type": "execute_result"
    }
   ],
   "source": [
    "sorted({2, 3,})"
   ]
  },
  {
   "cell_type": "code",
   "execution_count": null,
   "metadata": {},
   "outputs": [],
   "source": []
  }
 ],
 "metadata": {
  "kernelspec": {
   "display_name": "Python 3",
   "language": "python",
   "name": "python3"
  },
  "language_info": {
   "codemirror_mode": {
    "name": "ipython",
    "version": 3
   },
   "file_extension": ".py",
   "mimetype": "text/x-python",
   "name": "python",
   "nbconvert_exporter": "python",
   "pygments_lexer": "ipython3",
   "version": "3.7.3"
  }
 },
 "nbformat": 4,
 "nbformat_minor": 2
}
