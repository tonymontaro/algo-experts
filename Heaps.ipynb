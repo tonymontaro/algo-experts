{
 "cells": [
  {
   "cell_type": "code",
   "execution_count": 2,
   "metadata": {
    "ExecuteTime": {
     "end_time": "2019-07-28T22:25:03.445234Z",
     "start_time": "2019-07-28T22:25:03.422451Z"
    }
   },
   "outputs": [
    {
     "name": "stdout",
     "output_type": "stream",
     "text": [
      "-5, 2, 6, 24, 8, 7, 24, 391, 48, 56, 12, 24, 8, 41\n"
     ]
    }
   ],
   "source": [
    "import math\n",
    "\n",
    "class MinHeap:\n",
    "    def __init__(self, array):\n",
    "        self.heap = self.buildHeap(array)\n",
    "\n",
    "    def buildHeap(self, array):\n",
    "        for i in range(1, len(array)):\n",
    "            self.siftUp(i, array)\n",
    "        return array\n",
    "\n",
    "    def siftDown(self):\n",
    "        i = 0\n",
    "        heap = self.heap\n",
    "        ln = len(heap)\n",
    "        while True:\n",
    "            a, b = (2*i + 1), (2*i + 2)\n",
    "            child = -1\n",
    "            if a < ln and b < ln:\n",
    "                child = a if heap[a] < heap[b] else b\n",
    "            elif a < ln or b < ln:\n",
    "                child = a if a < ln else b\n",
    "            \n",
    "            if child > -1 and heap[child] < heap[i]:\n",
    "                heap[i], heap[child] = heap[child], heap[i]\n",
    "                i = child\n",
    "            if child != i:\n",
    "                break\n",
    "\n",
    "    def siftUp(self, i, heap):\n",
    "        while heap[i] < heap[self.parent(i)]:\n",
    "            p = self.parent(i)\n",
    "            heap[i], heap[p] = heap[p], heap[i]\n",
    "            i = p\n",
    "\n",
    "    def peek(self):\n",
    "        if self.heap:\n",
    "            return self.heap[0]\n",
    "\n",
    "    def remove(self):\n",
    "        heap, last = self.heap, len(self.heap)-1\n",
    "        heap[0], heap[last] = heap[last], heap[0]\n",
    "        heap.pop()\n",
    "        self.siftDown()\n",
    "        return self.heap\n",
    "\n",
    "    def insert(self, value):\n",
    "        self.heap.append(value)\n",
    "        self.siftUp(len(self.heap) - 1, self.heap)\n",
    "\n",
    "    @staticmethod\n",
    "    def parent(child_index):\n",
    "        i = math.ceil(child_index/2) - 1\n",
    "        return i if i >= 0 else 0\n",
    "    \n",
    "    def __repr__(self):\n",
    "        depth = math.floor(math.log2(len(self.heap))) + 1\n",
    "        return ', '.join(map(str, self.heap))\n",
    "\n",
    "aa = MinHeap([48, 12, 24, 7, 8, -5, 24, 391, 24, 56, 2, 6, 8, 41])\n",
    "print(aa)\n",
    "aa.insert(9)\n",
    "aa.heap[0] = 3\n",
    "aa.siftDown()"
   ]
  },
  {
   "cell_type": "code",
   "execution_count": null,
   "metadata": {},
   "outputs": [],
   "source": []
  }
 ],
 "metadata": {
  "kernelspec": {
   "display_name": "Python 3",
   "language": "python",
   "name": "python3"
  },
  "language_info": {
   "codemirror_mode": {
    "name": "ipython",
    "version": 3
   },
   "file_extension": ".py",
   "mimetype": "text/x-python",
   "name": "python",
   "nbconvert_exporter": "python",
   "pygments_lexer": "ipython3",
   "version": "3.7.3"
  }
 },
 "nbformat": 4,
 "nbformat_minor": 2
}
