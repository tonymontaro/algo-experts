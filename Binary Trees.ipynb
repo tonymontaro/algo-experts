{
 "cells": [
  {
   "cell_type": "markdown",
   "metadata": {
    "ExecuteTime": {
     "end_time": "2019-07-23T21:01:56.547379Z",
     "start_time": "2019-07-23T21:01:56.544706Z"
    }
   },
   "source": [
    "## Invert Binary Tree"
   ]
  },
  {
   "cell_type": "code",
   "execution_count": 3,
   "metadata": {
    "ExecuteTime": {
     "end_time": "2019-07-23T21:16:59.172677Z",
     "start_time": "2019-07-23T21:16:59.165215Z"
    }
   },
   "outputs": [],
   "source": [
    "# O(n) time | O(d) space\n",
    "def invertBinaryTree(tree):\n",
    "    if tree:\n",
    "        tree.left, tree.right = tree.right, tree.left\n",
    "        invertBinaryTree(tree.left)\n",
    "        invertBinaryTree(tree.right)\n",
    "    return tree"
   ]
  },
  {
   "cell_type": "code",
   "execution_count": null,
   "metadata": {},
   "outputs": [],
   "source": []
  },
  {
   "cell_type": "code",
   "execution_count": 1,
   "metadata": {
    "ExecuteTime": {
     "end_time": "2019-08-04T23:43:39.311791Z",
     "start_time": "2019-08-04T23:43:39.300024Z"
    }
   },
   "outputs": [],
   "source": [
    "class BinaryTree:\n",
    "    def __init__(self, value):\n",
    "        self.value = value\n",
    "        self.left = None\n",
    "        self.right = None\n",
    "\n",
    "    def insert(self, values, i = 0):\n",
    "        if i >= len(values):\n",
    "            return\n",
    "        queue = [self]\n",
    "        while len(queue) > 0:\n",
    "            current = queue.pop(0)\n",
    "            if current.left is None:\n",
    "                current.left = BinaryTree(values[i])\n",
    "                break\n",
    "            queue.append(current.left)\n",
    "            if current.right is None:\n",
    "                current.right = BinaryTree(values[i])\n",
    "                break\n",
    "            queue.append(current.right)\n",
    "        self.insert(values, i + 1)\n",
    "        return self\n",
    "    \n",
    "    def __repr__(self):\n",
    "        return '{} -> ({}, {})'.format(self.value, self.left, self.right)\n",
    "\n",
    "test1 = BinaryTree(1).insert([2, 3, 4, 5, 6, 7])"
   ]
  },
  {
   "cell_type": "code",
   "execution_count": 2,
   "metadata": {
    "ExecuteTime": {
     "end_time": "2019-08-04T23:43:40.229536Z",
     "start_time": "2019-08-04T23:43:40.211320Z"
    }
   },
   "outputs": [
    {
     "data": {
      "text/plain": [
       "18"
      ]
     },
     "execution_count": 2,
     "metadata": {},
     "output_type": "execute_result"
    }
   ],
   "source": [
    "# O(n) time | O(d) space | d => tree depth \n",
    "def maxPathSum(tree):\n",
    "    maxSum = {'val': -float('inf')}\n",
    "    result = maxPathSumHelper(tree, maxSum)\n",
    "    return result[1]['val']\n",
    "\n",
    "def maxPathSumHelper(node, maxSum):\n",
    "    if not node:\n",
    "        return (0, maxSum)\n",
    "    left = maxPathSumHelper(node.left, maxSum)[0]\n",
    "    right = maxPathSumHelper(node.right, maxSum)[0]\n",
    "    val = node.value\n",
    "    maxPath = max([val, val+left, val+right])\n",
    "    maxSum['val'] = max([maxSum['val'], maxPath, val+left+right])\n",
    "    return (maxPath, maxSum)\n",
    "\n",
    "maxPathSum(test1)"
   ]
  },
  {
   "cell_type": "code",
   "execution_count": 3,
   "metadata": {
    "ExecuteTime": {
     "end_time": "2019-08-04T23:43:46.170126Z",
     "start_time": "2019-08-04T23:43:46.159787Z"
    }
   },
   "outputs": [
    {
     "name": "stdout",
     "output_type": "stream",
     "text": [
      "16\n",
      "9\n",
      "5\n",
      "-3\n"
     ]
    }
   ],
   "source": [
    "test2 = BinaryTree(4).insert([-2, 6, -3, 3, 5])\n",
    "print(maxPathSum(test2)) # 16\n",
    "test3 = BinaryTree(-2).insert([3, -6, 1, 5]) # 9\n",
    "print(maxPathSum(test3)) # 9\n",
    "print(maxPathSum(BinaryTree(2).insert([-1, 3]))) # 5\n",
    "print(maxPathSum(BinaryTree(-3).insert([-4, -5]))) # -3"
   ]
  },
  {
   "cell_type": "code",
   "execution_count": null,
   "metadata": {},
   "outputs": [],
   "source": []
  }
 ],
 "metadata": {
  "kernelspec": {
   "display_name": "Python 3",
   "language": "python",
   "name": "python3"
  },
  "language_info": {
   "codemirror_mode": {
    "name": "ipython",
    "version": 3
   },
   "file_extension": ".py",
   "mimetype": "text/x-python",
   "name": "python",
   "nbconvert_exporter": "python",
   "pygments_lexer": "ipython3",
   "version": "3.7.3"
  }
 },
 "nbformat": 4,
 "nbformat_minor": 2
}
