{
 "cells": [
  {
   "cell_type": "markdown",
   "metadata": {
    "ExecuteTime": {
     "end_time": "2019-07-23T21:01:56.547379Z",
     "start_time": "2019-07-23T21:01:56.544706Z"
    }
   },
   "source": [
    "## Invert Binary Tree"
   ]
  },
  {
   "cell_type": "code",
   "execution_count": 3,
   "metadata": {
    "ExecuteTime": {
     "end_time": "2019-07-23T21:16:59.172677Z",
     "start_time": "2019-07-23T21:16:59.165215Z"
    }
   },
   "outputs": [],
   "source": [
    "# O(n) time | O(d) space\n",
    "def invertBinaryTree(tree):\n",
    "    if tree:\n",
    "        tree.left, tree.right = tree.right, tree.left\n",
    "        invertBinaryTree(tree.left)\n",
    "        invertBinaryTree(tree.right)\n",
    "    return tree"
   ]
  },
  {
   "cell_type": "code",
   "execution_count": null,
   "metadata": {},
   "outputs": [],
   "source": []
  }
 ],
 "metadata": {
  "kernelspec": {
   "display_name": "Python 3",
   "language": "python",
   "name": "python3"
  },
  "language_info": {
   "codemirror_mode": {
    "name": "ipython",
    "version": 3
   },
   "file_extension": ".py",
   "mimetype": "text/x-python",
   "name": "python",
   "nbconvert_exporter": "python",
   "pygments_lexer": "ipython3",
   "version": "3.7.3"
  }
 },
 "nbformat": 4,
 "nbformat_minor": 2
}
