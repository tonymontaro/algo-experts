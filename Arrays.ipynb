{
 "cells": [
  {
   "cell_type": "code",
   "execution_count": 2,
   "metadata": {
    "ExecuteTime": {
     "end_time": "2019-06-10T20:18:45.624868Z",
     "start_time": "2019-06-10T20:18:45.607610Z"
    }
   },
   "outputs": [],
   "source": [
    "%load_ext autoreload\n",
    "%autoreload 2"
   ]
  },
  {
   "cell_type": "markdown",
   "metadata": {},
   "source": [
    "## Two Number Sum\n",
    "Write a function that takes in a non-empty array of distinct integers and an integer representing a\n",
    "target sum. If any two numbers in the input array sum up to the target sum, the function should\n",
    "return them in an array, in sorted order. If no two numbers sum up to the target sum, the function\n",
    "should return an empty array. Assume that there will be at most one pair of numbers summing up to\n",
    "the target sum.\n",
    "\n",
    "Sample input: [3, 5, -4, 8, 11, 1, -1, 6], 10\n",
    "\n",
    "Sample output: [-1, 11]"
   ]
  },
  {
   "cell_type": "code",
   "execution_count": 7,
   "metadata": {
    "ExecuteTime": {
     "end_time": "2019-06-10T20:18:58.446013Z",
     "start_time": "2019-06-10T20:18:58.434351Z"
    },
    "code_folding": []
   },
   "outputs": [],
   "source": [
    "def twoNumberSum(array, targetSum):\n",
    "    seenNums = set()\n",
    "    for num in array:\n",
    "        diff = targetSum - num\n",
    "\n",
    "        if diff in seenNums:\n",
    "            return sorted([num, diff])\n",
    "        seenNums.add(num)\n",
    "    return []"
   ]
  },
  {
   "cell_type": "code",
   "execution_count": 11,
   "metadata": {
    "ExecuteTime": {
     "end_time": "2019-06-10T20:19:08.399582Z",
     "start_time": "2019-06-10T20:19:08.385244Z"
    }
   },
   "outputs": [
    {
     "name": "stdout",
     "output_type": "stream",
     "text": [
      "ready\n",
      "dsd\n"
     ]
    }
   ],
   "source": [
    "print('ready')\n",
    "print(\"dsd\")"
   ]
  },
  {
   "cell_type": "code",
   "execution_count": 14,
   "metadata": {
    "ExecuteTime": {
     "end_time": "2019-06-10T20:19:26.165454Z",
     "start_time": "2019-06-10T20:19:26.108184Z"
    }
   },
   "outputs": [
    {
     "name": "stdout",
     "output_type": "stream",
     "text": [
      "done\n"
     ]
    }
   ],
   "source": [
    "for i in range(1000000):\n",
    "    pass\n",
    "print('done')"
   ]
  },
  {
   "cell_type": "code",
   "execution_count": null,
   "metadata": {},
   "outputs": [],
   "source": []
  },
  {
   "cell_type": "code",
   "execution_count": null,
   "metadata": {},
   "outputs": [],
   "source": []
  },
  {
   "cell_type": "markdown",
   "metadata": {},
   "source": [
    "Three Number Sum\n",
    "\n",
    "Write a function that takes in a non-empty array of distinct integers and an integer representing a target sum. The function should nd all triplets in the array that\n",
    "sum up to the target sum and return a two-dimensional array of all these triplets. The numbers in each triplet should be ordered in ascending order, and the\n",
    "triplets themselves should be ordered in ascending order with respect to the numbers they hold. If no three numbers sum up to the target sum, the function\n",
    "should return an empty array.\n",
    "\n",
    "Sample input: [12, 3, 1, 2, -6, 5, -8, 6], 0\n",
    "\n",
    "Sample output: [[-8, 2, 6], [-8, 3, 5], [-6, 1, 5]]"
   ]
  },
  {
   "cell_type": "markdown",
   "metadata": {},
   "source": [
    "- get_triplets\n",
    "- sort_result\n",
    "\n",
    "### get triplets\n",
    "- "
   ]
  },
  {
   "cell_type": "code",
   "execution_count": 16,
   "metadata": {
    "ExecuteTime": {
     "end_time": "2019-06-21T12:35:58.580986Z",
     "start_time": "2019-06-21T12:35:58.566946Z"
    }
   },
   "outputs": [
    {
     "data": {
      "text/plain": [
       "[(-8, 2, 6), (-8, 3, 5), (-6, 1, 5)]"
      ]
     },
     "execution_count": 16,
     "metadata": {},
     "output_type": "execute_result"
    }
   ],
   "source": [
    "# O(n^2) time | O(n) space\n",
    "def threeNumberSum(arr, targetSum):\n",
    "    seen = set(arr)\n",
    "    arr = sorted(arr)\n",
    "    result = []\n",
    "    result_set = set()\n",
    "    ln = len(arr)\n",
    "    for i in range(ln):\n",
    "        num1 = arr[i]\n",
    "        for j in range(i+1, ln):\n",
    "            num2 = arr[j]\n",
    "            diff = targetSum - (num1 + num2)\n",
    "            if diff in seen and diff not in (num1, num2):\n",
    "                triplet = tuple(sorted([diff, num1, num2]))\n",
    "                if triplet not in result_set:\n",
    "                    result.append(triplet)\n",
    "                    result_set.add(triplet)\n",
    "    return result\n",
    "\n",
    "\n",
    "threeNumberSum([-6, 12, 3, 1, 2,  5, -8, 6], 0)"
   ]
  },
  {
   "cell_type": "code",
   "execution_count": 22,
   "metadata": {
    "ExecuteTime": {
     "end_time": "2019-06-21T15:40:43.807727Z",
     "start_time": "2019-06-21T15:40:43.793764Z"
    }
   },
   "outputs": [
    {
     "data": {
      "text/plain": [
       "[[-8, 2, 6], [-8, 3, 5], [-6, 1, 5]]"
      ]
     },
     "execution_count": 22,
     "metadata": {},
     "output_type": "execute_result"
    }
   ],
   "source": [
    "# O(n^2) time | O(n) space\n",
    "def threeNumberSum(arr, targetSum):\n",
    "    arr = sorted(arr)\n",
    "    result = []\n",
    "    for i in range(len(arr)):\n",
    "        left, right = i+1, len(arr)-1\n",
    "        while left < right:\n",
    "            sm = arr[i] + arr[left] + arr[right]\n",
    "            if sm == targetSum:\n",
    "                result.append([arr[i], arr[left], arr[right]])\n",
    "                left += 1\n",
    "                right -= 1\n",
    "            elif sm > targetSum:\n",
    "                right -= 1\n",
    "            else:\n",
    "                left += 1\n",
    "    return result\n",
    "            \n",
    "threeNumberSum([-6, 12, 3, 1, 2,  5, -8, 6], 0)"
   ]
  },
  {
   "cell_type": "code",
   "execution_count": null,
   "metadata": {},
   "outputs": [],
   "source": []
  },
  {
   "cell_type": "code",
   "execution_count": null,
   "metadata": {},
   "outputs": [],
   "source": []
  },
  {
   "cell_type": "markdown",
   "metadata": {},
   "source": [
    "### Smallest Difference\n",
    "Write a function that takes in two non-empty arrays of integers. The function should nd the pair of numbers (one from the rst array, one from the second array)\n",
    "whose absolute difference is closest to zero. The function should return an array containing these two numbers, with the number from the rst array in the rst\n",
    "position. Assume that there will only be one pair of numbers with the smallest difference.\n",
    "\n",
    "Sample input: [-1, 5, 10, 20, 28, 3], [26, 134, 135, 15, 17]\n",
    "\n",
    "Sample output: [28, 26]"
   ]
  },
  {
   "cell_type": "code",
   "execution_count": 58,
   "metadata": {
    "ExecuteTime": {
     "end_time": "2019-07-13T14:27:47.374006Z",
     "start_time": "2019-07-13T14:27:47.366282Z"
    }
   },
   "outputs": [],
   "source": [
    "# O(N*M) time | O(1) space\n",
    "def smallestDifference(arrayOne, arrayTwo):\n",
    "    min_num, min_set = float('inf'), []\n",
    "    for num1 in arrayOne:\n",
    "        for num2 in arrayTwo:\n",
    "            if min_num > abs(num1-num2):\n",
    "                min_num = abs(num1-num2)\n",
    "                min_set = [num1,num2]\n",
    "    return min_set"
   ]
  },
  {
   "cell_type": "code",
   "execution_count": 59,
   "metadata": {
    "ExecuteTime": {
     "end_time": "2019-07-13T14:27:47.731287Z",
     "start_time": "2019-07-13T14:27:47.723015Z"
    }
   },
   "outputs": [
    {
     "data": {
      "text/plain": [
       "[28, 26]"
      ]
     },
     "execution_count": 59,
     "metadata": {},
     "output_type": "execute_result"
    }
   ],
   "source": [
    "smallestDifference([-1, 5, 10, 20, 28, 3], [26, 134, 135, 15, 17])"
   ]
  },
  {
   "cell_type": "code",
   "execution_count": 73,
   "metadata": {
    "ExecuteTime": {
     "end_time": "2019-07-13T14:39:53.880008Z",
     "start_time": "2019-07-13T14:39:53.870260Z"
    }
   },
   "outputs": [],
   "source": [
    "# idea from AlgoExp video\n",
    "# O(NlogN +MlogM) time | O(1) space\n",
    "def smallestDifference(arrayOne, arrayTwo):\n",
    "    arrayOne.sort()\n",
    "    arrayTwo.sort()\n",
    "    pointer1 = pointer2 = 0\n",
    "    min_arr = []\n",
    "    while pointer1 < len(arrayOne) and pointer2 < len(arrayTwo):\n",
    "        n1, n2 = arrayOne[pointer1], arrayTwo[pointer2]\n",
    "        if n1 == n2:\n",
    "            return [n1, n2]\n",
    "        elif n1 < n2:\n",
    "            pointer1 += 1\n",
    "        else:\n",
    "            pointer2 += 1\n",
    "\n",
    "        if not min_arr or abs(n1 - n2) < abs(min_arr[0] - min_arr[1]):\n",
    "            min_diff = abs(n1 - n2)\n",
    "            min_arr = [n1, n2]\n",
    "    return min_arr\n",
    "        \n",
    "        "
   ]
  },
  {
   "cell_type": "code",
   "execution_count": 70,
   "metadata": {
    "ExecuteTime": {
     "end_time": "2019-07-13T14:38:06.959804Z",
     "start_time": "2019-07-13T14:38:06.951363Z"
    }
   },
   "outputs": [
    {
     "data": {
      "text/plain": [
       "[20, 17]"
      ]
     },
     "execution_count": 70,
     "metadata": {},
     "output_type": "execute_result"
    }
   ],
   "source": [
    "smallestDifference([-1, 5, 10, 20, 3], [26, 134, 135, 15, 17])"
   ]
  },
  {
   "cell_type": "code",
   "execution_count": 71,
   "metadata": {
    "ExecuteTime": {
     "end_time": "2019-07-13T14:38:08.662818Z",
     "start_time": "2019-07-13T14:38:08.654484Z"
    }
   },
   "outputs": [
    {
     "data": {
      "text/plain": [
       "[28, 26]"
      ]
     },
     "execution_count": 71,
     "metadata": {},
     "output_type": "execute_result"
    }
   ],
   "source": [
    "smallestDifference([-1, 5, 10, 20, 28, 3], [26, 134, 135, 15, 17])"
   ]
  },
  {
   "cell_type": "code",
   "execution_count": 23,
   "metadata": {
    "ExecuteTime": {
     "end_time": "2019-08-03T08:31:32.474709Z",
     "start_time": "2019-08-03T08:31:32.460643Z"
    }
   },
   "outputs": [
    {
     "data": {
      "text/plain": [
       "[{-1, 4, 6}]"
      ]
     },
     "execution_count": 23,
     "metadata": {},
     "output_type": "execute_result"
    }
   ],
   "source": [
    "# O(n**2) time | O(n) space\n",
    "def threeNumberSum(start, arr, targetSum):\n",
    "    result = []\n",
    "    for i in range(start, len(arr)):\n",
    "        left, right = i+1, len(arr)-1\n",
    "        while left < right:\n",
    "            sm = arr[i] + arr[left] + arr[right]\n",
    "            if sm == targetSum:\n",
    "                result.append(set([arr[i], arr[left], arr[right]]))\n",
    "                left += 1\n",
    "                right -= 1\n",
    "            elif sm > targetSum:\n",
    "                right -= 1\n",
    "            else:\n",
    "                left += 1\n",
    "    return result\n",
    "\n",
    "arr = [7, 6, 4, -1, 1, 2] # 16\n",
    "threeNumberSum(1, arr, 9)"
   ]
  },
  {
   "cell_type": "code",
   "execution_count": 29,
   "metadata": {
    "ExecuteTime": {
     "end_time": "2019-08-03T08:34:00.514214Z",
     "start_time": "2019-08-03T08:34:00.497872Z"
    }
   },
   "outputs": [
    {
     "data": {
      "text/plain": [
       "[[2, 3, 4, 1]]"
      ]
     },
     "execution_count": 29,
     "metadata": {},
     "output_type": "execute_result"
    }
   ],
   "source": [
    "def threeNumberSum(start, arr, targetSum):\n",
    "    result = []\n",
    "    for i in range(start, len(arr)):\n",
    "        left, right = i+1, len(arr)-1\n",
    "        while left < right:\n",
    "            sm = arr[i] + arr[left] + arr[right]\n",
    "            if sm == targetSum:\n",
    "                result.append([arr[i], arr[left], arr[right]])\n",
    "                left += 1\n",
    "                right -= 1\n",
    "            elif sm > targetSum:\n",
    "                right -= 1\n",
    "            else:\n",
    "                left += 1\n",
    "    return result\n",
    "\n",
    "# O(n**3) time | O(n) space\n",
    "def fourNumberSum(array, targetSum):\n",
    "    arr = sorted(array)\n",
    "    result = []\n",
    "    for i in range(len(arr)):\n",
    "        num = arr[i]\n",
    "        diff = targetSum - num\n",
    "        threeSums = threeNumberSum(i+1, arr, diff)\n",
    "        if threeSums:\n",
    "            for rs in threeSums:\n",
    "                rs.append(num)\n",
    "            result.extend(threeSums)\n",
    "    return result\n",
    "\n",
    "\n",
    "# fourNumberSum([7, 6, 4, -1, 1, 2], 16)\n",
    "fourNumberSum([1, 2, 3, 4, 5, 6, 7], 10)"
   ]
  },
  {
   "cell_type": "code",
   "execution_count": null,
   "metadata": {
    "ExecuteTime": {
     "end_time": "2019-08-03T08:26:28.175286Z",
     "start_time": "2019-08-03T08:26:28.167949Z"
    }
   },
   "outputs": [],
   "source": []
  },
  {
   "cell_type": "code",
   "execution_count": 35,
   "metadata": {
    "ExecuteTime": {
     "end_time": "2019-08-04T06:11:49.350322Z",
     "start_time": "2019-08-04T06:11:49.335596Z"
    }
   },
   "outputs": [
    {
     "data": {
      "text/plain": [
       "[[2, 1, 3, 4]]"
      ]
     },
     "execution_count": 35,
     "metadata": {},
     "output_type": "execute_result"
    }
   ],
   "source": [
    "from collections import defaultdict\n",
    "def fourNumberSum(arr, targetSum):\n",
    "    ln = len(arr)\n",
    "    seen = defaultdict(list)\n",
    "    fourNums = []\n",
    "    for i in range(ln):\n",
    "        num = arr[i]\n",
    "        for j in range(i+1, ln):\n",
    "            diff = targetSum - num - arr[j]\n",
    "            if diff in seen:\n",
    "                for item in seen[diff]:\n",
    "                    fourNums.append(item[:] + [num, arr[j]])\n",
    "\n",
    "        for j in range(i-1, -1, -1):\n",
    "            seen[(num + arr[j])].append([num, arr[j]])\n",
    "    return fourNums        \n",
    "    \n",
    "fourNumberSum([1, 2, 3, 4, 5, 6, 7], 10)   "
   ]
  },
  {
   "cell_type": "code",
   "execution_count": 36,
   "metadata": {
    "ExecuteTime": {
     "end_time": "2019-08-04T06:12:00.908066Z",
     "start_time": "2019-08-04T06:12:00.900156Z"
    }
   },
   "outputs": [
    {
     "data": {
      "text/plain": [
       "[[6, 7, 4, -1], [6, 7, 1, 2]]"
      ]
     },
     "execution_count": 36,
     "metadata": {},
     "output_type": "execute_result"
    }
   ],
   "source": [
    "fourNumberSum([7, 6, 4, -1, 1, 2], 16)"
   ]
  },
  {
   "cell_type": "code",
   "execution_count": null,
   "metadata": {},
   "outputs": [],
   "source": []
  },
  {
   "cell_type": "code",
   "execution_count": null,
   "metadata": {},
   "outputs": [],
   "source": [
    "# Sample input: [1, 2, 4, 7, 10, 11, 7, 12, 6, 7, 16, 18, 19]"
   ]
  },
  {
   "cell_type": "code",
   "execution_count": 130,
   "metadata": {
    "ExecuteTime": {
     "end_time": "2019-08-04T11:27:09.450435Z",
     "start_time": "2019-08-04T11:27:09.431726Z"
    }
   },
   "outputs": [
    {
     "data": {
      "text/plain": [
       "[2, 19]"
      ]
     },
     "execution_count": 130,
     "metadata": {},
     "output_type": "execute_result"
    }
   ],
   "source": [
    "import bisect\n",
    "\n",
    "# O(n) | O(1)\n",
    "def subarraySort(arr):\n",
    "    left_max = get_left_max(arr)\n",
    "    if arr[left_max] == arr[-1]:\n",
    "        return [-1, -1]\n",
    "    right_min = get_right_min(arr[left_max], arr)\n",
    "    left, right = get_left_right_idx(left_max, right_min, arr)\n",
    "    return [left, right]\n",
    "\n",
    "def get_left_max(arr):\n",
    "    i = 1\n",
    "    while i < len(arr) and arr[i] >= arr[i-1]:\n",
    "        i += 1\n",
    "    return i-1\n",
    "\n",
    "def get_right_min(left_max, arr):\n",
    "    if arr[-1] < left_max:\n",
    "        return len(arr)\n",
    "    i = len(arr) - 2\n",
    "    while arr[i] < arr[i+1] and arr[i] > left_max:\n",
    "        i -= 1\n",
    "    return i+1\n",
    "\n",
    "def get_left_right_idx(left_max, right_min, arr):\n",
    "    min_val = min(arr[left_max+1:right_min])\n",
    "    max_val = max(arr[left_max+1:right_min])\n",
    "    left = bisect.bisect_right(arr[0:left_max+1], min_val)\n",
    "    right = bisect.bisect_left(arr[right_min:], max_val) - 1 + right_min\n",
    "    return left, right\n",
    "\n",
    "# arr = [1, 2, 4, 7, 10, 11, 7, 12, 6, 7, 16, 18, 19]\n",
    "# print(subarraySort(arr))\n",
    "\n",
    "# arr = [1, 2, 3, 4, 5, 6, 8, 7, 9, 10, 11]\n",
    "arr = [1, 2, 3, 4, 5, 6, 7, 8, 9, 10, 11, 12, 13, 14, 15, 16, 17, 18, 19, 2] # [2, 19]\n",
    "# arr = [1, 2, 8, 4, 5] # 2, 4\n",
    "# arr = [1, 2, 20, 3, 4, 5, 6, 7, 8, 9, 10, 11, 12, 13, 14, 15, 16, 17, 18, 19] # 2, 19\n",
    "subarraySort(arr)"
   ]
  },
  {
   "cell_type": "code",
   "execution_count": null,
   "metadata": {},
   "outputs": [],
   "source": []
  },
  {
   "cell_type": "code",
   "execution_count": 198,
   "metadata": {
    "ExecuteTime": {
     "end_time": "2019-08-04T13:32:20.209725Z",
     "start_time": "2019-08-04T13:32:20.188077Z"
    }
   },
   "outputs": [
    {
     "data": {
      "text/plain": [
       "[-7, 7]"
      ]
     },
     "execution_count": 198,
     "metadata": {},
     "output_type": "execute_result"
    }
   ],
   "source": [
    "# O(n * logn)\n",
    "def largestRange(arr):\n",
    "    arr = sorted(arr)\n",
    "    print(arr)\n",
    "    rangeMin = 0\n",
    "    rangeMax = 0\n",
    "    length = len(arr)\n",
    "    currentRange = {'min': arr[0], 'val': 1}\n",
    "    for i in range(length):\n",
    "        if i < length-1 and (arr[i] + 1 == arr[i+1] or arr[i] == arr[i+1]):\n",
    "            currentRange['val'] += 1\n",
    "        else:\n",
    "            if currentRange['val'] > rangeMax - rangeMin:\n",
    "                rangeMin = currentRange['min']\n",
    "                rangeMax = arr[i]\n",
    "            currentRange = {'val': 1, 'min': arr[i+1] if i < length-1 else -1}\n",
    "    return [rangeMin, rangeMax]\n",
    "\n",
    "# O(n) | O(n) space\n",
    "def largestRange(arr):\n",
    "    rangeMin = 0\n",
    "    rangeMax = 0\n",
    "    tree = {num: {'visited': False, 'sub': None} for num in arr}\n",
    "    for num, detail in tree.items():\n",
    "        if not detail['visited']:\n",
    "            sub = 1\n",
    "            i = num + 1\n",
    "            while i in tree:\n",
    "                if tree[i]['visited'] and tree[i]['sub'] is not None:\n",
    "                    sub += tree[i]['sub']\n",
    "                    break\n",
    "                else:\n",
    "                    sub += 1\n",
    "                    tree[i]['visited'] = True\n",
    "                i += 1\n",
    "            tree[num] = {'visited': True, 'sub': sub}\n",
    "            if sub > rangeMax - rangeMin:\n",
    "                rangeMin = num\n",
    "                rangeMax = num + sub -1\n",
    "    return [rangeMin, rangeMax]\n",
    "\n",
    "# largestRange([1, 4])\n",
    "arr = [0, -5, 9, 19, -1, 18, 17, 2, -4, -3, 10, 3, 12, \n",
    "       5, 16, 4, 11, 7, -6, -7, 6, 15, 12, 12, 2, 1, 6, 13, 14, -2]\n",
    "largestRange(arr)"
   ]
  },
  {
   "cell_type": "code",
   "execution_count": 200,
   "metadata": {
    "ExecuteTime": {
     "end_time": "2019-08-04T13:32:43.424802Z",
     "start_time": "2019-08-04T13:32:43.407648Z"
    }
   },
   "outputs": [
    {
     "name": "stdout",
     "output_type": "stream",
     "text": [
      "[3, 3]\n",
      "[2, 3]\n",
      "[2, 3]\n",
      "[-3, 0]\n",
      "[234, 236]\n",
      "[1, 5]\n",
      "[0, 7]\n"
     ]
    },
    {
     "data": {
      "text/plain": [
       "[5, 8]"
      ]
     },
     "execution_count": 200,
     "metadata": {},
     "output_type": "execute_result"
    }
   ],
   "source": [
    "print(largestRange([0, 3])) # [3, 3] or [0, 0]\n",
    "print(largestRange([2, 3])) # [2, 3]\n",
    "print(largestRange([3, 2])) # [2, 3]\n",
    "print(largestRange([-2, -3,5, -1, 0])) # -3, 0\n",
    "print(largestRange([32, 235, 4, 65, 234, 1, 23, 5, 6, 236])) # 234, 236\n",
    "print(largestRange([3, 5, 1, 2, 4])) # 1, 5\n",
    "print(largestRange([1, 11, 3, 0, 15, 5, 2, 4, 10, 7, 12, 6])) # 0, 7\n",
    "largestRange([1, 2, 3, 5, 6, 7, 7, 8]) # 5, 8"
   ]
  },
  {
   "cell_type": "code",
   "execution_count": 193,
   "metadata": {
    "ExecuteTime": {
     "end_time": "2019-08-04T13:27:26.230031Z",
     "start_time": "2019-08-04T13:27:26.221312Z"
    }
   },
   "outputs": [
    {
     "data": {
      "text/plain": [
       "{1: 2, 4: 3}"
      ]
     },
     "execution_count": 193,
     "metadata": {},
     "output_type": "execute_result"
    }
   ],
   "source": [
    "dict([[1, 2], [4, 3]])"
   ]
  },
  {
   "cell_type": "code",
   "execution_count": null,
   "metadata": {},
   "outputs": [],
   "source": []
  },
  {
   "cell_type": "code",
   "execution_count": null,
   "metadata": {},
   "outputs": [],
   "source": []
  },
  {
   "cell_type": "markdown",
   "metadata": {},
   "source": [
    "## Min Rewards\n",
    "\n",
    "Imagine that you're a teacher who's just graded the nal exam in a class. You have a list of student scores on the nal exam in a particular order (not necessarily\n",
    "sorted), and you want to reward your students. You decide to do so fairly by giving them arbitrary rewards following two rules: rst, all students must receive at\n",
    "least one reward; second, any given student must receive strictly more rewards than an adjacent student (a student immediately to the left or to the right)\twith a\n",
    "lower score and must receive strictly fewer rewards than an adjacent student with a higher score. Assume that all students have different scores; in other words,\n",
    "the scores are all unique. Write a function that takes in a list of scores and returns the minimum number of rewards that you must give out to students, all the\n",
    "while satisfying the two rules.\n",
    "\n",
    "Sample input: [8, 4, 2, 1, 3, 6, 7, 9, 5]\n",
    "\n",
    "Sample output: 25 ([4, 3, 2, 1, 2, 3, 4, 5, 1])"
   ]
  },
  {
   "cell_type": "code",
   "execution_count": 257,
   "metadata": {
    "ExecuteTime": {
     "end_time": "2019-08-04T15:37:52.068689Z",
     "start_time": "2019-08-04T15:37:52.047378Z"
    }
   },
   "outputs": [
    {
     "data": {
      "text/plain": [
       "25"
      ]
     },
     "execution_count": 257,
     "metadata": {},
     "output_type": "execute_result"
    }
   ],
   "source": [
    "# O(n) time and space\n",
    "def minRewards(arr):\n",
    "    if len(arr) <= 1:\n",
    "        return len(arr)\n",
    "    valleys = getValleys(arr)\n",
    "    rewards = [0] * len(arr)\n",
    "    for valley in valleys:\n",
    "        setLeftSide(valley, rewards, arr)\n",
    "        setRightSide(valley, rewards, arr)\n",
    "    return sum(rewards)\n",
    "\n",
    "def setRightSide(valley, rewards, arr):\n",
    "    i = valley + 1\n",
    "    lastIdx = len(arr)-1\n",
    "    while i < lastIdx and arr[i] < arr[i+1]:\n",
    "        rewards[i] = rewards[i-1] + 1\n",
    "        i += 1\n",
    "    if i <= lastIdx and (rewards[i-1]+1 > rewards[i]):\n",
    "        rewards[i] = rewards[i-1] + 1\n",
    "\n",
    "def setLeftSide(valley, rewards, arr):\n",
    "    rewards[valley] = 1\n",
    "    i = valley - 1\n",
    "    while i > 0 and arr[i] < arr[i-1]:\n",
    "        rewards[i] = rewards[i+1] + 1\n",
    "        i -= 1\n",
    "    if i >= 0 and (rewards[i+1]+1 > rewards[i]):\n",
    "        rewards[i] = rewards[i+1] + 1\n",
    "\n",
    "def getValleys(arr):\n",
    "    result = []\n",
    "    ln = len(arr)\n",
    "    for i in range(ln):\n",
    "        if ((0 < i < ln-1 and arr[i] < arr[i-1] and arr[i] < arr[i+1]) \n",
    "            or (i == 0 and arr[i] < arr[i+1]) \n",
    "            or (i == ln-1 and arr[i] < arr[i-1])):\n",
    "            result.append(i)\n",
    "    return result\n",
    "\n",
    "minRewards([8, 4, 2, 1, 3, 6, 7, 9, 5]) # 25"
   ]
  },
  {
   "cell_type": "code",
   "execution_count": 264,
   "metadata": {
    "ExecuteTime": {
     "end_time": "2019-08-04T15:51:14.645257Z",
     "start_time": "2019-08-04T15:51:14.631502Z"
    }
   },
   "outputs": [
    {
     "data": {
      "text/plain": [
       "25"
      ]
     },
     "execution_count": 264,
     "metadata": {},
     "output_type": "execute_result"
    }
   ],
   "source": [
    "# O(n) time and space\n",
    "def minRewards(arr):\n",
    "    ln = len(arr)\n",
    "    result = [1] * ln\n",
    "    for i in range(1, ln):\n",
    "        if arr[i] > arr[i-1]:\n",
    "            result[i] = max(result[i], result[i-1] + 1)\n",
    "    for i in range(ln-2, -1, -1):\n",
    "        if arr[i] > arr[i+1]:\n",
    "            result[i] = max(result[i], result[i+1] + 1)\n",
    "    return sum(result)\n",
    "\n",
    "minRewards([8, 4, 2, 1, 3, 6, 7, 9, 5]) # 25"
   ]
  },
  {
   "cell_type": "code",
   "execution_count": 265,
   "metadata": {
    "ExecuteTime": {
     "end_time": "2019-08-04T15:51:15.522747Z",
     "start_time": "2019-08-04T15:51:15.515071Z"
    }
   },
   "outputs": [
    {
     "data": {
      "text/plain": [
       "32"
      ]
     },
     "execution_count": 265,
     "metadata": {},
     "output_type": "execute_result"
    }
   ],
   "source": [
    "minRewards([2,8,7,5,6,7,8,10,11,10, 1, 2]) # 32"
   ]
  },
  {
   "cell_type": "code",
   "execution_count": 266,
   "metadata": {
    "ExecuteTime": {
     "end_time": "2019-08-04T15:51:16.295111Z",
     "start_time": "2019-08-04T15:51:16.286031Z"
    }
   },
   "outputs": [
    {
     "name": "stdout",
     "output_type": "stream",
     "text": [
      "0\n",
      "1\n",
      "3\n",
      "3\n",
      "11\n"
     ]
    }
   ],
   "source": [
    "print(minRewards([])) # 0\n",
    "print(minRewards([9])) # 1\n",
    "print(minRewards([5, 7])) # 3\n",
    "print(minRewards([9, 2])) # 3\n",
    "print(minRewards([4, 2, 0, 5, 9])) # 11"
   ]
  },
  {
   "cell_type": "code",
   "execution_count": 272,
   "metadata": {
    "ExecuteTime": {
     "end_time": "2019-08-04T22:35:50.537994Z",
     "start_time": "2019-08-04T22:35:50.526641Z"
    }
   },
   "outputs": [],
   "source": []
  },
  {
   "cell_type": "code",
   "execution_count": 281,
   "metadata": {
    "ExecuteTime": {
     "end_time": "2019-08-04T22:46:51.977098Z",
     "start_time": "2019-08-04T22:46:51.963843Z"
    }
   },
   "outputs": [
    {
     "data": {
      "text/plain": [
       "18"
      ]
     },
     "execution_count": 281,
     "metadata": {},
     "output_type": "execute_result"
    }
   ],
   "source": []
  },
  {
   "cell_type": "code",
   "execution_count": 287,
   "metadata": {
    "ExecuteTime": {
     "end_time": "2019-08-04T22:51:55.378034Z",
     "start_time": "2019-08-04T22:51:55.366723Z"
    }
   },
   "outputs": [
    {
     "name": "stdout",
     "output_type": "stream",
     "text": [
      "16\n",
      "9\n",
      "5\n",
      "-3\n"
     ]
    }
   ],
   "source": []
  },
  {
   "cell_type": "code",
   "execution_count": null,
   "metadata": {},
   "outputs": [],
   "source": []
  }
 ],
 "metadata": {
  "kernelspec": {
   "display_name": "Python 3",
   "language": "python",
   "name": "python3"
  },
  "language_info": {
   "codemirror_mode": {
    "name": "ipython",
    "version": 3
   },
   "file_extension": ".py",
   "mimetype": "text/x-python",
   "name": "python",
   "nbconvert_exporter": "python",
   "pygments_lexer": "ipython3",
   "version": "3.7.3"
  }
 },
 "nbformat": 4,
 "nbformat_minor": 2
}
