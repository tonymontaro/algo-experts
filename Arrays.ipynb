{
 "cells": [
  {
   "cell_type": "code",
   "execution_count": 2,
   "metadata": {
    "ExecuteTime": {
     "end_time": "2019-06-10T20:18:45.624868Z",
     "start_time": "2019-06-10T20:18:45.607610Z"
    }
   },
   "outputs": [],
   "source": [
    "%load_ext autoreload\n",
    "%autoreload 2"
   ]
  },
  {
   "cell_type": "markdown",
   "metadata": {},
   "source": [
    "## Two Number Sum\n",
    "Write a function that takes in a non-empty array of distinct integers and an integer representing a\n",
    "target sum. If any two numbers in the input array sum up to the target sum, the function should\n",
    "return them in an array, in sorted order. If no two numbers sum up to the target sum, the function\n",
    "should return an empty array. Assume that there will be at most one pair of numbers summing up to\n",
    "the target sum.\n",
    "\n",
    "Sample input: [3, 5, -4, 8, 11, 1, -1, 6], 10\n",
    "\n",
    "Sample output: [-1, 11]"
   ]
  },
  {
   "cell_type": "code",
   "execution_count": 7,
   "metadata": {
    "ExecuteTime": {
     "end_time": "2019-06-10T20:18:58.446013Z",
     "start_time": "2019-06-10T20:18:58.434351Z"
    },
    "code_folding": []
   },
   "outputs": [],
   "source": [
    "def twoNumberSum(array, targetSum):\n",
    "    seenNums = set()\n",
    "    for num in array:\n",
    "        diff = targetSum - num\n",
    "\n",
    "        if diff in seenNums:\n",
    "            return sorted([num, diff])\n",
    "        seenNums.add(num)\n",
    "    return []"
   ]
  },
  {
   "cell_type": "code",
   "execution_count": 11,
   "metadata": {
    "ExecuteTime": {
     "end_time": "2019-06-10T20:19:08.399582Z",
     "start_time": "2019-06-10T20:19:08.385244Z"
    }
   },
   "outputs": [
    {
     "name": "stdout",
     "output_type": "stream",
     "text": [
      "ready\n",
      "dsd\n"
     ]
    }
   ],
   "source": [
    "print('ready')\n",
    "print(\"dsd\")"
   ]
  },
  {
   "cell_type": "code",
   "execution_count": 14,
   "metadata": {
    "ExecuteTime": {
     "end_time": "2019-06-10T20:19:26.165454Z",
     "start_time": "2019-06-10T20:19:26.108184Z"
    }
   },
   "outputs": [
    {
     "name": "stdout",
     "output_type": "stream",
     "text": [
      "done\n"
     ]
    }
   ],
   "source": [
    "for i in range(1000000):\n",
    "    pass\n",
    "print('done')"
   ]
  },
  {
   "cell_type": "code",
   "execution_count": null,
   "metadata": {},
   "outputs": [],
   "source": []
  },
  {
   "cell_type": "code",
   "execution_count": null,
   "metadata": {},
   "outputs": [],
   "source": []
  },
  {
   "cell_type": "markdown",
   "metadata": {},
   "source": [
    "Three Number Sum\n",
    "\n",
    "Write a function that takes in a non-empty array of distinct integers and an integer representing a target sum. The function should nd all triplets in the array that\n",
    "sum up to the target sum and return a two-dimensional array of all these triplets. The numbers in each triplet should be ordered in ascending order, and the\n",
    "triplets themselves should be ordered in ascending order with respect to the numbers they hold. If no three numbers sum up to the target sum, the function\n",
    "should return an empty array.\n",
    "\n",
    "Sample input: [12, 3, 1, 2, -6, 5, -8, 6], 0\n",
    "\n",
    "Sample output: [[-8, 2, 6], [-8, 3, 5], [-6, 1, 5]]"
   ]
  },
  {
   "cell_type": "markdown",
   "metadata": {},
   "source": [
    "- get_triplets\n",
    "- sort_result\n",
    "\n",
    "### get triplets\n",
    "- "
   ]
  },
  {
   "cell_type": "code",
   "execution_count": 16,
   "metadata": {
    "ExecuteTime": {
     "end_time": "2019-06-21T12:35:58.580986Z",
     "start_time": "2019-06-21T12:35:58.566946Z"
    }
   },
   "outputs": [
    {
     "data": {
      "text/plain": [
       "[(-8, 2, 6), (-8, 3, 5), (-6, 1, 5)]"
      ]
     },
     "execution_count": 16,
     "metadata": {},
     "output_type": "execute_result"
    }
   ],
   "source": [
    "# O(n^2) time | O(n) space\n",
    "def threeNumberSum(arr, targetSum):\n",
    "    seen = set(arr)\n",
    "    arr = sorted(arr)\n",
    "    result = []\n",
    "    result_set = set()\n",
    "    ln = len(arr)\n",
    "    for i in range(ln):\n",
    "        num1 = arr[i]\n",
    "        for j in range(i+1, ln):\n",
    "            num2 = arr[j]\n",
    "            diff = targetSum - (num1 + num2)\n",
    "            if diff in seen and diff not in (num1, num2):\n",
    "                triplet = tuple(sorted([diff, num1, num2]))\n",
    "                if triplet not in result_set:\n",
    "                    result.append(triplet)\n",
    "                    result_set.add(triplet)\n",
    "    return result\n",
    "\n",
    "\n",
    "threeNumberSum([-6, 12, 3, 1, 2,  5, -8, 6], 0)"
   ]
  },
  {
   "cell_type": "code",
   "execution_count": 22,
   "metadata": {
    "ExecuteTime": {
     "end_time": "2019-06-21T15:40:43.807727Z",
     "start_time": "2019-06-21T15:40:43.793764Z"
    }
   },
   "outputs": [
    {
     "data": {
      "text/plain": [
       "[[-8, 2, 6], [-8, 3, 5], [-6, 1, 5]]"
      ]
     },
     "execution_count": 22,
     "metadata": {},
     "output_type": "execute_result"
    }
   ],
   "source": [
    "# O(n^2) time | O(n) space\n",
    "def threeNumberSum(arr, targetSum):\n",
    "    arr = sorted(arr)\n",
    "    result = []\n",
    "    for i in range(len(arr)):\n",
    "        left, right = i+1, len(arr)-1\n",
    "        while left < right:\n",
    "            sm = arr[i] + arr[left] + arr[right]\n",
    "            if sm == targetSum:\n",
    "                result.append([arr[i], arr[left], arr[right]])\n",
    "                left += 1\n",
    "                right -= 1\n",
    "            elif sm > targetSum:\n",
    "                right -= 1\n",
    "            else:\n",
    "                left += 1\n",
    "    return result\n",
    "            \n",
    "threeNumberSum([-6, 12, 3, 1, 2,  5, -8, 6], 0)"
   ]
  },
  {
   "cell_type": "code",
   "execution_count": null,
   "metadata": {},
   "outputs": [],
   "source": []
  },
  {
   "cell_type": "code",
   "execution_count": null,
   "metadata": {},
   "outputs": [],
   "source": []
  },
  {
   "cell_type": "markdown",
   "metadata": {},
   "source": [
    "### Smallest Difference\n",
    "Write a function that takes in two non-empty arrays of integers. The function should nd the pair of numbers (one from the rst array, one from the second array)\n",
    "whose absolute difference is closest to zero. The function should return an array containing these two numbers, with the number from the rst array in the rst\n",
    "position. Assume that there will only be one pair of numbers with the smallest difference.\n",
    "\n",
    "Sample input: [-1, 5, 10, 20, 28, 3], [26, 134, 135, 15, 17]\n",
    "\n",
    "Sample output: [28, 26]"
   ]
  },
  {
   "cell_type": "code",
   "execution_count": 58,
   "metadata": {
    "ExecuteTime": {
     "end_time": "2019-07-13T14:27:47.374006Z",
     "start_time": "2019-07-13T14:27:47.366282Z"
    }
   },
   "outputs": [],
   "source": [
    "# O(N*M) time | O(1) space\n",
    "def smallestDifference(arrayOne, arrayTwo):\n",
    "    min_num, min_set = float('inf'), []\n",
    "    for num1 in arrayOne:\n",
    "        for num2 in arrayTwo:\n",
    "            if min_num > abs(num1-num2):\n",
    "                min_num = abs(num1-num2)\n",
    "                min_set = [num1,num2]\n",
    "    return min_set"
   ]
  },
  {
   "cell_type": "code",
   "execution_count": 59,
   "metadata": {
    "ExecuteTime": {
     "end_time": "2019-07-13T14:27:47.731287Z",
     "start_time": "2019-07-13T14:27:47.723015Z"
    }
   },
   "outputs": [
    {
     "data": {
      "text/plain": [
       "[28, 26]"
      ]
     },
     "execution_count": 59,
     "metadata": {},
     "output_type": "execute_result"
    }
   ],
   "source": [
    "smallestDifference([-1, 5, 10, 20, 28, 3], [26, 134, 135, 15, 17])"
   ]
  },
  {
   "cell_type": "code",
   "execution_count": 73,
   "metadata": {
    "ExecuteTime": {
     "end_time": "2019-07-13T14:39:53.880008Z",
     "start_time": "2019-07-13T14:39:53.870260Z"
    }
   },
   "outputs": [],
   "source": [
    "# idea from AlgoExp video\n",
    "# O(NlogN +MlogM) time | O(1) space\n",
    "def smallestDifference(arrayOne, arrayTwo):\n",
    "    arrayOne.sort()\n",
    "    arrayTwo.sort()\n",
    "    pointer1 = pointer2 = 0\n",
    "    min_arr = []\n",
    "    while pointer1 < len(arrayOne) and pointer2 < len(arrayTwo):\n",
    "        n1, n2 = arrayOne[pointer1], arrayTwo[pointer2]\n",
    "        if n1 == n2:\n",
    "            return [n1, n2]\n",
    "        elif n1 < n2:\n",
    "            pointer1 += 1\n",
    "        else:\n",
    "            pointer2 += 1\n",
    "\n",
    "        if not min_arr or abs(n1 - n2) < abs(min_arr[0] - min_arr[1]):\n",
    "            min_diff = abs(n1 - n2)\n",
    "            min_arr = [n1, n2]\n",
    "    return min_arr\n",
    "        \n",
    "        "
   ]
  },
  {
   "cell_type": "code",
   "execution_count": 70,
   "metadata": {
    "ExecuteTime": {
     "end_time": "2019-07-13T14:38:06.959804Z",
     "start_time": "2019-07-13T14:38:06.951363Z"
    }
   },
   "outputs": [
    {
     "data": {
      "text/plain": [
       "[20, 17]"
      ]
     },
     "execution_count": 70,
     "metadata": {},
     "output_type": "execute_result"
    }
   ],
   "source": [
    "smallestDifference([-1, 5, 10, 20, 3], [26, 134, 135, 15, 17])"
   ]
  },
  {
   "cell_type": "code",
   "execution_count": 71,
   "metadata": {
    "ExecuteTime": {
     "end_time": "2019-07-13T14:38:08.662818Z",
     "start_time": "2019-07-13T14:38:08.654484Z"
    }
   },
   "outputs": [
    {
     "data": {
      "text/plain": [
       "[28, 26]"
      ]
     },
     "execution_count": 71,
     "metadata": {},
     "output_type": "execute_result"
    }
   ],
   "source": [
    "smallestDifference([-1, 5, 10, 20, 28, 3], [26, 134, 135, 15, 17])"
   ]
  },
  {
   "cell_type": "code",
   "execution_count": 65,
   "metadata": {
    "ExecuteTime": {
     "end_time": "2019-07-13T14:30:33.702320Z",
     "start_time": "2019-07-13T14:30:33.691444Z"
    }
   },
   "outputs": [
    {
     "name": "stdout",
     "output_type": "stream",
     "text": [
      "-1 26\n",
      "5 26\n",
      "10 26\n",
      "20 26\n",
      "3 26\n"
     ]
    },
    {
     "data": {
      "text/plain": [
       "[20, 26]"
      ]
     },
     "execution_count": 65,
     "metadata": {},
     "output_type": "execute_result"
    }
   ],
   "source": []
  },
  {
   "cell_type": "code",
   "execution_count": null,
   "metadata": {},
   "outputs": [],
   "source": []
  }
 ],
 "metadata": {
  "kernelspec": {
   "display_name": "Python 3",
   "language": "python",
   "name": "python3"
  },
  "language_info": {
   "codemirror_mode": {
    "name": "ipython",
    "version": 3
   },
   "file_extension": ".py",
   "mimetype": "text/x-python",
   "name": "python",
   "nbconvert_exporter": "python",
   "pygments_lexer": "ipython3",
   "version": "3.7.3"
  }
 },
 "nbformat": 4,
 "nbformat_minor": 2
}
