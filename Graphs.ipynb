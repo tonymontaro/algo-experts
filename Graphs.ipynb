{
 "cells": [
  {
   "cell_type": "markdown",
   "metadata": {},
   "source": [
    "## Single Cycle Check\n",
    "You are given an array of integers. Each integer represents a jump of its value in the array. For instance, the integer 2 represents a jump of 2 indices forward in the\n",
    "array; the integer -3 represents a jump of 3 indices backward in the array. If a jump spills past the array's bounds, it wraps over to the other side. For instance, a\n",
    "jump of -1 at index 0 brings us to the last index in the array. Similarly, a jump of 1 at the last index in the array brings us to index 0. Write a function that returns a\n",
    "boolean representing whether the jumps in the array form a single cycle. A single cycle occurs if, starting at any index in the array and following the jumps, every\n",
    "element is visited exactly once before landing back on the starting index.\n",
    "\n",
    "Sample input: [2, 3, 1, -4, -4, 2]\n",
    "\n",
    "Sample output: True"
   ]
  },
  {
   "cell_type": "code",
   "execution_count": 33,
   "metadata": {
    "ExecuteTime": {
     "end_time": "2019-07-25T08:58:32.935354Z",
     "start_time": "2019-07-25T08:58:32.921560Z"
    }
   },
   "outputs": [
    {
     "data": {
      "text/plain": [
       "False"
      ]
     },
     "execution_count": 33,
     "metadata": {},
     "output_type": "execute_result"
    }
   ],
   "source": [
    "# O(n) time | O(n) space\n",
    "def hasSingleCycle(arr):\n",
    "    visited = [0] * len(arr)\n",
    "    seen = len(arr)\n",
    "    first = i = 0\n",
    "    while seen > 0:\n",
    "        if visited[i]:\n",
    "            return False\n",
    "        visited[i] = 1\n",
    "        i = (i + arr[i]) % len(arr)\n",
    "        seen -= 1\n",
    "    return i == first\n",
    "\n",
    "hasSingleCycle([2, 3, 1, -21, -4, 2]) "
   ]
  },
  {
   "cell_type": "code",
   "execution_count": 34,
   "metadata": {
    "ExecuteTime": {
     "end_time": "2019-07-25T08:58:33.475183Z",
     "start_time": "2019-07-25T08:58:33.465987Z"
    }
   },
   "outputs": [
    {
     "name": "stdout",
     "output_type": "stream",
     "text": [
      "True\n",
      "False\n",
      "True\n",
      "False\n"
     ]
    }
   ],
   "source": [
    "print(hasSingleCycle([2, 3, 1, -4, -4, 2])) # true\n",
    "print(hasSingleCycle([2, 3])) # false\n",
    "print(hasSingleCycle([1, -1])) # true\n",
    "print(hasSingleCycle([1, 1, 2])) # false"
   ]
  },
  {
   "cell_type": "code",
   "execution_count": 9,
   "metadata": {
    "ExecuteTime": {
     "end_time": "2019-07-25T08:46:07.948166Z",
     "start_time": "2019-07-25T08:46:07.940713Z"
    }
   },
   "outputs": [
    {
     "data": {
      "text/plain": [
       "0"
      ]
     },
     "execution_count": 9,
     "metadata": {},
     "output_type": "execute_result"
    }
   ],
   "source": []
  },
  {
   "cell_type": "code",
   "execution_count": null,
   "metadata": {},
   "outputs": [],
   "source": []
  },
  {
   "cell_type": "code",
   "execution_count": 66,
   "metadata": {
    "ExecuteTime": {
     "end_time": "2019-07-25T12:12:35.173187Z",
     "start_time": "2019-07-25T12:12:35.163476Z"
    }
   },
   "outputs": [],
   "source": [
    "from collections import deque\n",
    "\n",
    "class Node:\n",
    "    def __init__(self, name):\n",
    "        self.children = []\n",
    "        self.name = name\n",
    "\n",
    "    def addChild(self, name):\n",
    "        self.children.append(Node(name))\n",
    "        return self\n",
    "\n",
    "    # O(V + E) time | O(V) space\n",
    "    def breadthFirstSearch(self, array):\n",
    "        items = deque([self])\n",
    "        while items:\n",
    "            item = items.popleft()\n",
    "            array.append(item.name)\n",
    "            items.extend(item.children)\n",
    "        return array\n",
    "    \n",
    "    def __repr__(self):\n",
    "        return self.name"
   ]
  },
  {
   "cell_type": "code",
   "execution_count": 67,
   "metadata": {
    "ExecuteTime": {
     "end_time": "2019-07-25T12:12:36.763271Z",
     "start_time": "2019-07-25T12:12:36.751269Z"
    }
   },
   "outputs": [
    {
     "data": {
      "text/plain": [
       "C"
      ]
     },
     "execution_count": 67,
     "metadata": {},
     "output_type": "execute_result"
    }
   ],
   "source": [
    "test1 = Node(\"A\")\n",
    "test1.addChild(\"B\").addChild(\"C\")\n",
    "test1.children[0].addChild(\"D\")\n",
    "\n",
    "test2 = Node(\"A\")\n",
    "test2.addChild(\"B\").addChild(\"C\").addChild(\"D\").addChild(\"E\")\n",
    "test2.children[0].addChild(\"z\")\n",
    "test2.children[1].addChild(\"F\")"
   ]
  },
  {
   "cell_type": "code",
   "execution_count": 68,
   "metadata": {
    "ExecuteTime": {
     "end_time": "2019-07-25T12:12:41.731370Z",
     "start_time": "2019-07-25T12:12:41.722341Z"
    }
   },
   "outputs": [
    {
     "data": {
      "text/plain": [
       "['A', 'B', 'C', 'D']"
      ]
     },
     "execution_count": 68,
     "metadata": {},
     "output_type": "execute_result"
    }
   ],
   "source": [
    "test1.breadthFirstSearch([])"
   ]
  },
  {
   "cell_type": "code",
   "execution_count": 65,
   "metadata": {
    "ExecuteTime": {
     "end_time": "2019-07-25T11:55:30.076846Z",
     "start_time": "2019-07-25T11:55:30.067274Z"
    },
    "scrolled": true
   },
   "outputs": [
    {
     "data": {
      "text/plain": [
       "['A', 'B', 'C', 'D', 'E', 'z', 'F']"
      ]
     },
     "execution_count": 65,
     "metadata": {},
     "output_type": "execute_result"
    }
   ],
   "source": [
    "test2.breadthFirstSearch([])"
   ]
  },
  {
   "cell_type": "code",
   "execution_count": null,
   "metadata": {},
   "outputs": [],
   "source": []
  },
  {
   "cell_type": "code",
   "execution_count": null,
   "metadata": {},
   "outputs": [],
   "source": []
  },
  {
   "cell_type": "markdown",
   "metadata": {},
   "source": [
    "River Sizes\n",
    "\n",
    "You are given a two-dimensional array (matrix)\tof potentially unequal height and width containing only 0s and 1s. Each 0 represents land, and each 1\n",
    "represents part of a river. A river consists of any number of 1s that are either horizontally or vertically adjacent (but not diagonally adjacent). The number of\n",
    "adjacent 1s forming a river determine its size. Write a function that returns an array of the sizes of all rivers represented in the input matrix. Note that these\n",
    "sizes do not need to be in any particular order.\n",
    "Sample input:\n",
    "\n",
    "[\n",
    "[1, 0, 0, 1, 0],\n",
    "\n",
    "[1, 0, 1, 0, 0],\n",
    "\n",
    "[0, 0, 1, 0, 1],\n",
    "\n",
    "[1, 0, 1, 0, 1],\n",
    "\n",
    "[1, 0, 1, 1, 0],\n",
    "]\n",
    "\n",
    "Sample output: [1, 2, 2, 2, 5]"
   ]
  },
  {
   "cell_type": "code",
   "execution_count": 26,
   "metadata": {
    "ExecuteTime": {
     "end_time": "2019-07-27T07:06:10.616771Z",
     "start_time": "2019-07-27T07:06:10.597508Z"
    },
    "code_folding": []
   },
   "outputs": [
    {
     "data": {
      "text/plain": [
       "[1, 2, 2, 2, 5]"
      ]
     },
     "execution_count": 26,
     "metadata": {},
     "output_type": "execute_result"
    }
   ],
   "source": [
    "# O(R * C) | O(R * C) \n",
    "def riverSizes(matrix):\n",
    "    visited = set()\n",
    "    sizes = []\n",
    "\n",
    "    def search(pos):\n",
    "        row, col = pos\n",
    "        if pos in visited or pos[0] < 0 or pos[1] < 0:\n",
    "            return 0\n",
    "        visited.add(pos)\n",
    "        count = 0\n",
    "        for pos in [(row+1, col), (row-1, col), (row, col+1), (row, col-1)]:\n",
    "            try:\n",
    "                if matrix[pos[0]][pos[1]] == 1:\n",
    "                    count += search(pos)\n",
    "            except:\n",
    "                pass\n",
    "        return 1 + count\n",
    "\n",
    "    for row in range(len(matrix)):\n",
    "        for col in range(len(matrix[0])):\n",
    "            if matrix[row][col] == 0 or (row, col) in visited:\n",
    "                continue\n",
    "            sizes.append(search((row, col)))\n",
    "    return sorted(sizes)\n",
    "\n",
    "\n",
    "arr = [[1, 0, 0, 1, 0],\n",
    "[1, 0, 1, 0, 0],\n",
    "[0, 0, 1, 0, 1],\n",
    "[1, 0, 1, 0, 1],\n",
    "[1, 0, 1, 1, 0]]\n",
    "\n",
    "riverSizes(arr)"
   ]
  },
  {
   "cell_type": "code",
   "execution_count": null,
   "metadata": {},
   "outputs": [],
   "source": []
  },
  {
   "cell_type": "code",
   "execution_count": 29,
   "metadata": {
    "ExecuteTime": {
     "end_time": "2019-07-27T11:51:12.309947Z",
     "start_time": "2019-07-27T11:51:12.294814Z"
    }
   },
   "outputs": [],
   "source": [
    "class AncestralTree:\n",
    "    def __init__(self, name):\n",
    "        self.name = name\n",
    "        self.ancestor = None\n",
    "\n",
    "    def addAsAncestor(self, descendants):\n",
    "        for descendant in descendants:\n",
    "            descendant.ancestor = self\n",
    "\n",
    "ancestralTrees = {}\n",
    "ALPHABET = list('ABCDEFGHIJKLMNOPQRSTUVWXYZ')\n",
    "for letter in ALPHABET:\n",
    "    ancestralTrees[letter] = AncestralTree(letter)\n",
    "ancestralTrees['A'].addAsAncestor([\n",
    "    ancestralTrees['B'],\n",
    "    ancestralTrees['C'],\n",
    "    ancestralTrees['D'],\n",
    "    ancestralTrees['E'],\n",
    "    ancestralTrees['F'],\n",
    "])\n",
    "ancestralTrees['B'].addAsAncestor([\n",
    "    ancestralTrees['G'],\n",
    "    ancestralTrees['H'],\n",
    "    ancestralTrees['I'],\n",
    "])\n",
    "ancestralTrees['C'].addAsAncestor([\n",
    "    ancestralTrees['J'],\n",
    "])\n",
    "ancestralTrees['D'].addAsAncestor([\n",
    "    ancestralTrees['K'],\n",
    "    ancestralTrees['L'],\n",
    "])\n",
    "ancestralTrees['F'].addAsAncestor([\n",
    "    ancestralTrees['M'],\n",
    "    ancestralTrees['N'],\n",
    "])\n",
    "ancestralTrees['H'].addAsAncestor([\n",
    "    ancestralTrees['O'],\n",
    "    ancestralTrees['P'],\n",
    "    ancestralTrees['Q'],\n",
    "    ancestralTrees['R'],\n",
    "])\n",
    "ancestralTrees['K'].addAsAncestor([\n",
    "    ancestralTrees['S'],\n",
    "])\n",
    "ancestralTrees['P'].addAsAncestor([\n",
    "    ancestralTrees['T'],\n",
    "    ancestralTrees['U'],\n",
    "])\n",
    "ancestralTrees['R'].addAsAncestor([\n",
    "    ancestralTrees['V'],\n",
    "])\n",
    "ancestralTrees['V'].addAsAncestor([\n",
    "    ancestralTrees['W'],\n",
    "    ancestralTrees['X'],\n",
    "    ancestralTrees['Y'],\n",
    "])\n",
    "ancestralTrees['X'].addAsAncestor([\n",
    "    ancestralTrees['Z'],\n",
    "])"
   ]
  },
  {
   "cell_type": "code",
   "execution_count": 32,
   "metadata": {
    "ExecuteTime": {
     "end_time": "2019-07-27T11:55:57.394303Z",
     "start_time": "2019-07-27T11:55:57.387214Z"
    }
   },
   "outputs": [],
   "source": [
    "# O(d) time, d->depth of tree | O(d) space\n",
    "def traverse(node, visited):\n",
    "    while node:\n",
    "        if node.name in visited:\n",
    "            return node\n",
    "        visited.add(node.name)\n",
    "        node = node.ancestor\n",
    "    return None\n",
    "\n",
    "def getYoungestCommonAncestor(topAncestor, descendantOne, descendantTwo):\n",
    "    visited = set()\n",
    "    traverse(descendantOne, visited)\n",
    "    return traverse(descendantTwo, visited)"
   ]
  },
  {
   "cell_type": "code",
   "execution_count": 189,
   "metadata": {
    "ExecuteTime": {
     "end_time": "2019-07-28T22:25:17.827391Z",
     "start_time": "2019-07-28T22:25:17.819620Z"
    }
   },
   "outputs": [
    {
     "data": {
      "text/plain": [
       "'A'"
      ]
     },
     "execution_count": 189,
     "metadata": {},
     "output_type": "execute_result"
    }
   ],
   "source": [
    "getYoungestCommonAncestor(ancestralTrees['A'], ancestralTrees['B'], ancestralTrees['C']).name"
   ]
  },
  {
   "cell_type": "code",
   "execution_count": null,
   "metadata": {},
   "outputs": [],
   "source": []
  }
 ],
 "metadata": {
  "kernelspec": {
   "display_name": "Python 3",
   "language": "python",
   "name": "python3"
  },
  "language_info": {
   "codemirror_mode": {
    "name": "ipython",
    "version": 3
   },
   "file_extension": ".py",
   "mimetype": "text/x-python",
   "name": "python",
   "nbconvert_exporter": "python",
   "pygments_lexer": "ipython3",
   "version": "3.7.3"
  }
 },
 "nbformat": 4,
 "nbformat_minor": 2
}
