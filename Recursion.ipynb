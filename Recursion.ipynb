{
 "cells": [
  {
   "cell_type": "code",
   "execution_count": null,
   "metadata": {
    "ExecuteTime": {
     "end_time": "2019-07-29T00:21:30.259407Z",
     "start_time": "2019-07-29T00:21:29.986184Z"
    }
   },
   "outputs": [],
   "source": [
    "def getPermutations(array, prev=None, rs=None):\n",
    "    if not prev:\n",
    "        prev = []\n",
    "        rs = []\n",
    "    prevs = set(prev)\n",
    "    for num in array:\n",
    "        if num in prevs:\n",
    "            continue\n",
    "        nprev = list(prev)\n",
    "        nprev.append(num)\n",
    "        if len(nprev) < len(array):\n",
    "            getPermutations(array, nprev, rs)\n",
    "        else:\n",
    "            rs.append(nprev)\n",
    "    return rs\n",
    "\n",
    "getPermutations([1, 2, 3, 4, 5, 6, 7, 8])"
   ]
  },
  {
   "cell_type": "code",
   "execution_count": null,
   "metadata": {
    "ExecuteTime": {
     "end_time": "2019-07-30T14:54:48.604460Z",
     "start_time": "2019-07-30T14:54:48.400351Z"
    }
   },
   "outputs": [],
   "source": [
    "def getPermutations(array):\n",
    "    return permutationHelper(array, 0, [])\n",
    "\n",
    "# O(n! * n) time | O(n! * n) space\n",
    "def permutationHelper(arr, i, result):\n",
    "    if i == len(arr) - 1:\n",
    "        result.append(arr[:])\n",
    "    else:\n",
    "        for j in range(i, len(arr)):\n",
    "            arr[i], arr[j] = arr[j], arr[i]\n",
    "            permutationHelper(arr, i+1, result)\n",
    "            arr[i], arr[j] = arr[j], arr[i]\n",
    "    return result\n",
    "\n",
    "getPermutations([1, 2, 3, 4, 5, 6, 7, 8])"
   ]
  },
  {
   "cell_type": "code",
   "execution_count": 36,
   "metadata": {
    "ExecuteTime": {
     "end_time": "2019-07-30T14:37:46.775994Z",
     "start_time": "2019-07-30T14:37:46.770885Z"
    }
   },
   "outputs": [
    {
     "data": {
      "text/plain": [
       "[]"
      ]
     },
     "execution_count": 36,
     "metadata": {},
     "output_type": "execute_result"
    }
   ],
   "source": [
    "getPermutations([])"
   ]
  },
  {
   "cell_type": "code",
   "execution_count": null,
   "metadata": {},
   "outputs": [],
   "source": []
  },
  {
   "cell_type": "markdown",
   "metadata": {},
   "source": [
    "### Powerset\n",
    "\n",
    "Write a function that takes in an array of unique integers and returns its powerset. The powerset P(X)\tof a set X is the set of all subsets of X. For example, the\n",
    "powerset of [1,2]\tis [[], [1], [2], [1,2]]. \n",
    "\n",
    "Note that the sets in the powerset do not need to be in any particular order.\n",
    "\n",
    "Sample input: [1, 2, 3]\n",
    "\n",
    "Sample output: [[], [1], [2], [3], [1, 2], [1, 3], [2, 3], [1, 2, 3]]"
   ]
  },
  {
   "cell_type": "code",
   "execution_count": 55,
   "metadata": {
    "ExecuteTime": {
     "end_time": "2019-07-30T15:35:08.161248Z",
     "start_time": "2019-07-30T15:35:08.148646Z"
    }
   },
   "outputs": [
    {
     "data": {
      "text/plain": [
       "[[], [1], [1, 2], [1, 2, 3], [1, 3], [2], [2, 3], [3]]"
      ]
     },
     "execution_count": 55,
     "metadata": {},
     "output_type": "execute_result"
    }
   ],
   "source": [
    "def powerset(array):\n",
    "    return powersetHelper(array, -1, [], [[]])\n",
    "\n",
    "# O(n**3) time | O(n**3) space\n",
    "def powersetHelper(arr, idx, prev_set, result):\n",
    "    for j in range(idx+1, len(arr)):\n",
    "        temp = prev_set[:]\n",
    "        temp.append(arr[j])\n",
    "        result.append(temp)\n",
    "        if j < len(arr)-1:\n",
    "            powersetHelper(arr, j, temp, result)\n",
    "    return result\n",
    "\n",
    "powerset([1, 2, 3])"
   ]
  },
  {
   "cell_type": "code",
   "execution_count": 69,
   "metadata": {
    "ExecuteTime": {
     "end_time": "2019-07-30T16:05:49.214613Z",
     "start_time": "2019-07-30T16:05:49.203533Z"
    }
   },
   "outputs": [
    {
     "data": {
      "text/plain": [
       "[[], [1], [2], [1, 2], [3], [1, 3], [2, 3], [1, 2, 3]]"
      ]
     },
     "execution_count": 69,
     "metadata": {},
     "output_type": "execute_result"
    }
   ],
   "source": [
    "# O(n * 2**n) time | O(n * 2**n) space\n",
    "def powerset(arr):\n",
    "    subsets = [[]]\n",
    "    for num in arr:\n",
    "        for i in range(len(subsets)):\n",
    "            subsets.append(subsets[i] + [num])\n",
    "    return subsets\n",
    "\n",
    "powerset([1, 2, 3])"
   ]
  },
  {
   "cell_type": "code",
   "execution_count": 68,
   "metadata": {
    "ExecuteTime": {
     "end_time": "2019-07-30T16:05:18.548556Z",
     "start_time": "2019-07-30T16:05:18.539791Z"
    }
   },
   "outputs": [
    {
     "data": {
      "text/plain": [
       "[[],\n",
       " [1],\n",
       " [2],\n",
       " [1, 2],\n",
       " [3],\n",
       " [1, 3],\n",
       " [2, 3],\n",
       " [1, 2, 3],\n",
       " [4],\n",
       " [1, 4],\n",
       " [2, 4],\n",
       " [1, 2, 4],\n",
       " [3, 4],\n",
       " [1, 3, 4],\n",
       " [2, 3, 4],\n",
       " [1, 2, 3, 4]]"
      ]
     },
     "execution_count": 68,
     "metadata": {},
     "output_type": "execute_result"
    }
   ],
   "source": [
    "powerset([1, 2, 3, 4])"
   ]
  },
  {
   "cell_type": "code",
   "execution_count": 46,
   "metadata": {
    "ExecuteTime": {
     "end_time": "2019-07-30T15:15:56.503264Z",
     "start_time": "2019-07-30T15:15:56.499867Z"
    }
   },
   "outputs": [],
   "source": []
  },
  {
   "cell_type": "code",
   "execution_count": 45,
   "metadata": {
    "ExecuteTime": {
     "end_time": "2019-07-30T15:15:46.279285Z",
     "start_time": "2019-07-30T15:15:46.272628Z"
    }
   },
   "outputs": [
    {
     "data": {
      "text/plain": [
       "[1, 2]"
      ]
     },
     "execution_count": 45,
     "metadata": {},
     "output_type": "execute_result"
    }
   ],
   "source": [
    "aa"
   ]
  },
  {
   "cell_type": "code",
   "execution_count": 72,
   "metadata": {
    "ExecuteTime": {
     "end_time": "2019-07-30T16:27:07.205810Z",
     "start_time": "2019-07-30T16:27:06.872151Z"
    }
   },
   "outputs": [],
   "source": [
    "import pandas as pd"
   ]
  },
  {
   "cell_type": "code",
   "execution_count": 73,
   "metadata": {
    "ExecuteTime": {
     "end_time": "2019-07-30T16:27:13.845695Z",
     "start_time": "2019-07-30T16:27:13.826550Z"
    }
   },
   "outputs": [
    {
     "data": {
      "text/html": [
       "<div>\n",
       "<style scoped>\n",
       "    .dataframe tbody tr th:only-of-type {\n",
       "        vertical-align: middle;\n",
       "    }\n",
       "\n",
       "    .dataframe tbody tr th {\n",
       "        vertical-align: top;\n",
       "    }\n",
       "\n",
       "    .dataframe thead th {\n",
       "        text-align: right;\n",
       "    }\n",
       "</style>\n",
       "<table border=\"1\" class=\"dataframe\">\n",
       "  <thead>\n",
       "    <tr style=\"text-align: right;\">\n",
       "      <th></th>\n",
       "      <th>first_name</th>\n",
       "      <th>last_name</th>\n",
       "      <th>age</th>\n",
       "      <th>preTestScore</th>\n",
       "      <th>postTestScore</th>\n",
       "    </tr>\n",
       "  </thead>\n",
       "  <tbody>\n",
       "    <tr>\n",
       "      <th>0</th>\n",
       "      <td>Jason</td>\n",
       "      <td>Miller</td>\n",
       "      <td>42</td>\n",
       "      <td>4</td>\n",
       "      <td>25</td>\n",
       "    </tr>\n",
       "    <tr>\n",
       "      <th>1</th>\n",
       "      <td>Jason</td>\n",
       "      <td>Miller</td>\n",
       "      <td>42</td>\n",
       "      <td>4</td>\n",
       "      <td>25</td>\n",
       "    </tr>\n",
       "    <tr>\n",
       "      <th>2</th>\n",
       "      <td>Tina</td>\n",
       "      <td>Ali</td>\n",
       "      <td>36</td>\n",
       "      <td>31</td>\n",
       "      <td>57</td>\n",
       "    </tr>\n",
       "    <tr>\n",
       "      <th>3</th>\n",
       "      <td>Jake</td>\n",
       "      <td>Milner</td>\n",
       "      <td>24</td>\n",
       "      <td>2</td>\n",
       "      <td>62</td>\n",
       "    </tr>\n",
       "    <tr>\n",
       "      <th>4</th>\n",
       "      <td>Amy</td>\n",
       "      <td>Cooze</td>\n",
       "      <td>73</td>\n",
       "      <td>3</td>\n",
       "      <td>70</td>\n",
       "    </tr>\n",
       "  </tbody>\n",
       "</table>\n",
       "</div>"
      ],
      "text/plain": [
       "  first_name last_name  age  preTestScore  postTestScore\n",
       "0      Jason    Miller   42             4             25\n",
       "1      Jason    Miller   42             4             25\n",
       "2       Tina       Ali   36            31             57\n",
       "3       Jake    Milner   24             2             62\n",
       "4        Amy     Cooze   73             3             70"
      ]
     },
     "execution_count": 73,
     "metadata": {},
     "output_type": "execute_result"
    }
   ],
   "source": [
    "raw_data = {'first_name': ['Jason', 'Jason', 'Tina', 'Jake', 'Amy'], \n",
    "        'last_name': ['Miller', 'Miller', 'Ali', 'Milner', 'Cooze'], \n",
    "        'age': [42, 42, 36, 24, 73], \n",
    "        'preTestScore': [4, 4, 31, 2, 3],\n",
    "        'postTestScore': [25, 25, 57, 62, 70]}\n",
    "df = pd.DataFrame(raw_data, columns = ['first_name', 'last_name', 'age', 'preTestScore', 'postTestScore'])\n",
    "df"
   ]
  },
  {
   "cell_type": "code",
   "execution_count": 84,
   "metadata": {
    "ExecuteTime": {
     "end_time": "2019-07-30T16:32:35.956904Z",
     "start_time": "2019-07-30T16:32:35.950076Z"
    }
   },
   "outputs": [],
   "source": [
    "def find_value(value, dataframe):\n",
    "    for col in dataframe.columns:\n",
    "        \n",
    "        filtered = dataframe[dataframe[col] == value]\n",
    "        if not filtered.empty:\n",
    "            return (filtered.index[0], col)\n"
   ]
  },
  {
   "cell_type": "code",
   "execution_count": 85,
   "metadata": {
    "ExecuteTime": {
     "end_time": "2019-07-30T16:33:24.995287Z",
     "start_time": "2019-07-30T16:33:24.987646Z"
    }
   },
   "outputs": [
    {
     "data": {
      "text/plain": [
       "dtype('O')"
      ]
     },
     "execution_count": 85,
     "metadata": {},
     "output_type": "execute_result"
    }
   ],
   "source": [
    "df['first_name'].dtype "
   ]
  },
  {
   "cell_type": "code",
   "execution_count": null,
   "metadata": {},
   "outputs": [],
   "source": []
  }
 ],
 "metadata": {
  "kernelspec": {
   "display_name": "Python 3",
   "language": "python",
   "name": "python3"
  },
  "language_info": {
   "codemirror_mode": {
    "name": "ipython",
    "version": 3
   },
   "file_extension": ".py",
   "mimetype": "text/x-python",
   "name": "python",
   "nbconvert_exporter": "python",
   "pygments_lexer": "ipython3",
   "version": "3.7.3"
  }
 },
 "nbformat": 4,
 "nbformat_minor": 2
}
